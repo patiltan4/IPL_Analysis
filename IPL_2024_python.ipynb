{
 "cells": [
  {
   "cell_type": "markdown",
   "id": "edcc848c-4507-4706-b6fb-9c208c3671b3",
   "metadata": {},
   "source": [
    "# Analysis of IPL DATA"
   ]
  },
  {
   "cell_type": "markdown",
   "id": "32733759-14f0-4678-a362-4332b52a0eed",
   "metadata": {},
   "source": [
    "\"Sports Basics\" is a sports blog company that entered space recently.  They wanted to get more traffic to their website by releasing a special edition magazine on IPL 2024.  This magazine aims to provide interesting insights and facts for fans, analysts and teams based on the last 3 years' data."
   ]
  },
  {
   "cell_type": "markdown",
   "id": "dc33ed54-f2f2-4df7-8e70-b5f07e53a53c",
   "metadata": {},
   "source": [
    "### Importing libraries"
   ]
  },
  {
   "cell_type": "code",
   "execution_count": 2,
   "id": "72d4692b-f380-4ec2-8668-98de78fcc2c4",
   "metadata": {},
   "outputs": [],
   "source": [
    "import numpy as np\n",
    "import pandas as pd\n",
    "import matplotlib.pyplot as plt"
   ]
  },
  {
   "cell_type": "markdown",
   "id": "2a30904b-a203-4323-835f-156dce3b8a6d",
   "metadata": {},
   "source": [
    "### Importing Data from CSV"
   ]
  },
  {
   "cell_type": "code",
   "execution_count": 26,
   "id": "d577baea-ecb8-4f89-aa08-6975092078a0",
   "metadata": {},
   "outputs": [],
   "source": [
    "match_summary = pd.read_csv('D:\\Projects\\IPL_2024_Project\\C10_Input_Files\\datasets\\dim_match_summary.csv')\n",
    "players = pd.read_csv('D:\\Projects\\IPL_2024_Project\\C10_Input_Files\\datasets\\dim_players.csv')\n",
    "batting_summary = pd.read_csv(r'D:\\Projects\\IPL_2024_Project\\C10_Input_Files\\datasets\\fact_bating_summary.csv')\n",
    "bowling_summary = pd.read_csv(r'D:\\Projects\\IPL_2024_Project\\C10_Input_Files\\datasets\\fact_bowling_summary.csv')\n",
    "                        "
   ]
  },
  {
   "cell_type": "code",
   "execution_count": 27,
   "id": "7f857bb2-295c-48db-af76-f112ca456f2a",
   "metadata": {},
   "outputs": [
    {
     "name": "stdout",
     "output_type": "stream",
     "text": [
      "Match Summary Column:  -->  Index(['team1', 'team2', 'winner', 'margin', 'matchDate', 'match_id'], dtype='object')\n",
      "Players Column:  -->  Index(['name', 'team', 'battingStyle', 'bowlingStyle', 'playingRole'], dtype='object')\n",
      "Batting Summary Column:  -->  Index(['match_id', 'match', 'teamInnings', 'battingPos', 'batsmanName',\n",
      "       'out/not_out', 'runs', 'balls', '4s', '6s', 'SR'],\n",
      "      dtype='object')\n",
      "Bowling Summary Column:  -->  Index(['match_id', 'match', 'bowlingTeam', 'bowlerName', 'overs', 'maiden',\n",
      "       'runs', 'wickets', 'economy', '0s', '4s', '6s', 'wides', 'noBalls'],\n",
      "      dtype='object')\n"
     ]
    }
   ],
   "source": [
    "print(\"Match Summary Column:  --> \", match_summary.columns)\n",
    "print(\"Players Column:  --> \", players.columns)\n",
    "print(\"Batting Summary Column:  --> \", batting_summary.columns)\n",
    "print(\"Bowling Summary Column:  --> \", bowling_summary.columns)"
   ]
  },
  {
   "cell_type": "code",
   "execution_count": 28,
   "id": "7fd96ac7-1936-4104-96ef-b95bf21b0e7f",
   "metadata": {},
   "outputs": [
    {
     "name": "stdout",
     "output_type": "stream",
     "text": [
      "Match Summary :  -->  (206, 6)\n",
      "Players :  -->  (292, 5)\n",
      "Batting Summary :  -->  (3268, 11)\n",
      "Bowling Summary :  -->  (2436, 14)\n"
     ]
    }
   ],
   "source": [
    "print(\"Match Summary :  --> \", match_summary.shape)\n",
    "print(\"Players :  --> \", players.shape)\n",
    "print(\"Batting Summary :  --> \", batting_summary.shape)\n",
    "print(\"Bowling Summary :  --> \", bowling_summary.shape)"
   ]
  },
  {
   "cell_type": "markdown",
   "id": "a05cbc41-53af-4230-a6c3-92c9863d306d",
   "metadata": {},
   "source": [
    "### TOP 10 Batsman"
   ]
  },
  {
   "cell_type": "code",
   "execution_count": 38,
   "id": "f417dd61-cda2-4af0-9636-56c2c31c513b",
   "metadata": {},
   "outputs": [],
   "source": [
    "batsman_and_runs = batting_summary.groupby('batsmanName')['runs'].sum().reset_index()"
   ]
  },
  {
   "cell_type": "code",
   "execution_count": 44,
   "id": "872761b4-eea1-4002-91b3-cce1a7c27222",
   "metadata": {},
   "outputs": [],
   "source": [
    "#batsman_and_runs.head()"
   ]
  },
  {
   "cell_type": "code",
   "execution_count": 43,
   "id": "5ff7006b-6a89-4688-b7e5-a216751ba0c7",
   "metadata": {},
   "outputs": [
    {
     "name": "stdout",
     "output_type": "stream",
     "text": [
      "        batsmanName  runs\n",
      "1       ShubmanGill  1851\n",
      "2      FafduPlessis  1831\n",
      "3    RuturajGaikwad  1593\n",
      "4           KLRahul  1516\n",
      "5        JosButtler  1509\n",
      "6     ShikharDhawan  1392\n",
      "7        ViratKohli  1385\n",
      "8       SanjuSamson  1304\n",
      "9   SuryakumarYadav  1225\n",
      "10     GlennMaxwell  1214\n"
     ]
    }
   ],
   "source": [
    "#top 10 batsman\n",
    "top_10_batsmen = batsman_and_runs.nlargest(10, 'runs').reset_index(drop=True)\n",
    "# Set the index starting from 1\n",
    "top_10_batsmen.index = top_10_batsmen.index + 1\n",
    "print(top_10_batsmen)"
   ]
  },
  {
   "cell_type": "markdown",
   "id": "76e0d9d0-d8fe-4ace-a3e3-5a0071380b6b",
   "metadata": {},
   "source": [
    "### TOP 10 Bowlers"
   ]
  },
  {
   "cell_type": "code",
   "execution_count": 45,
   "id": "0b34f1e0-015b-4488-aee2-bf11d5286564",
   "metadata": {},
   "outputs": [],
   "source": [
    "bowlers_and_wickets = bowling_summary.groupby('bowlerName')['wickets'].sum().reset_index()"
   ]
  },
  {
   "cell_type": "code",
   "execution_count": 46,
   "id": "269cf9a5-1f1b-426f-9f98-028fc709fadd",
   "metadata": {},
   "outputs": [
    {
     "data": {
      "text/html": [
       "<div>\n",
       "<style scoped>\n",
       "    .dataframe tbody tr th:only-of-type {\n",
       "        vertical-align: middle;\n",
       "    }\n",
       "\n",
       "    .dataframe tbody tr th {\n",
       "        vertical-align: top;\n",
       "    }\n",
       "\n",
       "    .dataframe thead th {\n",
       "        text-align: right;\n",
       "    }\n",
       "</style>\n",
       "<table border=\"1\" class=\"dataframe\">\n",
       "  <thead>\n",
       "    <tr style=\"text-align: right;\">\n",
       "      <th></th>\n",
       "      <th>bowlerName</th>\n",
       "      <th>wickets</th>\n",
       "    </tr>\n",
       "  </thead>\n",
       "  <tbody>\n",
       "    <tr>\n",
       "      <th>0</th>\n",
       "      <td>AbdulSamad</td>\n",
       "      <td>1</td>\n",
       "    </tr>\n",
       "    <tr>\n",
       "      <th>1</th>\n",
       "      <td>AbhishekSharma</td>\n",
       "      <td>6</td>\n",
       "    </tr>\n",
       "    <tr>\n",
       "      <th>2</th>\n",
       "      <td>AdamMilne</td>\n",
       "      <td>3</td>\n",
       "    </tr>\n",
       "    <tr>\n",
       "      <th>3</th>\n",
       "      <td>AdamZampa</td>\n",
       "      <td>8</td>\n",
       "    </tr>\n",
       "    <tr>\n",
       "      <th>4</th>\n",
       "      <td>AdilRashid</td>\n",
       "      <td>2</td>\n",
       "    </tr>\n",
       "  </tbody>\n",
       "</table>\n",
       "</div>"
      ],
      "text/plain": [
       "       bowlerName  wickets\n",
       "0      AbdulSamad        1\n",
       "1  AbhishekSharma        6\n",
       "2       AdamMilne        3\n",
       "3       AdamZampa        8\n",
       "4      AdilRashid        2"
      ]
     },
     "execution_count": 46,
     "metadata": {},
     "output_type": "execute_result"
    }
   ],
   "source": [
    "bowlers_and_wickets.head()"
   ]
  },
  {
   "cell_type": "code",
   "execution_count": 47,
   "id": "13a431ff-a5b8-4b1b-ab14-473d885acdba",
   "metadata": {},
   "outputs": [
    {
     "name": "stdout",
     "output_type": "stream",
     "text": [
      "           bowlerName  wickets\n",
      "1       MohammedShami       67\n",
      "2     YuzvendraChahal       66\n",
      "3        HarshalPatel       65\n",
      "4          RashidKhan       63\n",
      "5           AveshKhan       47\n",
      "6       ArshdeepSingh       45\n",
      "7        KagisoRabada       45\n",
      "8   VarunChakravarthy       44\n",
      "9       ShardulThakur       43\n",
      "10         TrentBoult       42\n"
     ]
    }
   ],
   "source": [
    "#top 10 bowlers\n",
    "top_10_bowler = bowlers_and_wickets.nlargest(10, 'wickets').reset_index(drop=True)\n",
    "# Set the index starting from 1\n",
    "top_10_bowler.index = top_10_bowler.index + 1\n",
    "print(top_10_bowler)"
   ]
  },
  {
   "cell_type": "code",
   "execution_count": null,
   "id": "95fbe9a4-a168-42f1-98ef-b21b1a187fd9",
   "metadata": {},
   "outputs": [],
   "source": []
  },
  {
   "cell_type": "code",
   "execution_count": null,
   "id": "2e4b92a4-6695-4a45-a407-3f37d276443b",
   "metadata": {},
   "outputs": [],
   "source": []
  },
  {
   "cell_type": "code",
   "execution_count": null,
   "id": "9a0269bf-5209-4859-a658-00e768772ebc",
   "metadata": {},
   "outputs": [],
   "source": []
  }
 ],
 "metadata": {
  "kernelspec": {
   "display_name": "Python 3 (ipykernel)",
   "language": "python",
   "name": "python3"
  },
  "language_info": {
   "codemirror_mode": {
    "name": "ipython",
    "version": 3
   },
   "file_extension": ".py",
   "mimetype": "text/x-python",
   "name": "python",
   "nbconvert_exporter": "python",
   "pygments_lexer": "ipython3",
   "version": "3.11.5"
  }
 },
 "nbformat": 4,
 "nbformat_minor": 5
}
