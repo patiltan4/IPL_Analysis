{
 "cells": [
  {
   "cell_type": "markdown",
   "id": "edcc848c-4507-4706-b6fb-9c208c3671b3",
   "metadata": {},
   "source": [
    "# Analysis of IPL DATA"
   ]
  },
  {
   "cell_type": "markdown",
   "id": "32733759-14f0-4678-a362-4332b52a0eed",
   "metadata": {},
   "source": [
    "\"Sports Basics\" is a sports blog company that entered space recently.  They wanted to get more traffic to their website by releasing a special edition magazine on IPL 2024.  This magazine aims to provide interesting insights and facts for fans, analysts and teams based on the last 3 years' data."
   ]
  },
  {
   "cell_type": "markdown",
   "id": "dc33ed54-f2f2-4df7-8e70-b5f07e53a53c",
   "metadata": {},
   "source": [
    "### Importing Libraries"
   ]
  },
  {
   "cell_type": "code",
   "execution_count": 1,
   "id": "72d4692b-f380-4ec2-8668-98de78fcc2c4",
   "metadata": {},
   "outputs": [],
   "source": [
    "import numpy as np\n",
    "import pandas as pd\n",
    "import matplotlib.pyplot as plt"
   ]
  },
  {
   "cell_type": "markdown",
   "id": "2a30904b-a203-4323-835f-156dce3b8a6d",
   "metadata": {},
   "source": [
    "### Importing Data"
   ]
  },
  {
   "cell_type": "code",
   "execution_count": 2,
   "id": "d577baea-ecb8-4f89-aa08-6975092078a0",
   "metadata": {},
   "outputs": [],
   "source": [
    "match_summary = pd.read_csv('D:\\Projects\\IPL_2024_Project\\C10_Input_Files\\datasets\\dim_match_summary.csv')\n",
    "players = pd.read_csv('D:\\Projects\\IPL_2024_Project\\C10_Input_Files\\datasets\\dim_players.csv')\n",
    "batting_summary = pd.read_csv(r'D:\\Projects\\IPL_2024_Project\\C10_Input_Files\\datasets\\fact_bating_summary.csv')\n",
    "bowling_summary = pd.read_csv(r'D:\\Projects\\IPL_2024_Project\\C10_Input_Files\\datasets\\fact_bowling_summary.csv')\n",
    "                        "
   ]
  },
  {
   "cell_type": "code",
   "execution_count": 3,
   "id": "7f857bb2-295c-48db-af76-f112ca456f2a",
   "metadata": {},
   "outputs": [
    {
     "name": "stdout",
     "output_type": "stream",
     "text": [
      "Match Summary Column:  -->  Index(['team1', 'team2', 'winner', 'margin', 'matchDate', 'match_id'], dtype='object')\n",
      "Players Column:  -->  Index(['name', 'team', 'battingStyle', 'bowlingStyle', 'playingRole'], dtype='object')\n",
      "Batting Summary Column:  -->  Index(['match_id', 'match', 'teamInnings', 'battingPos', 'batsmanName',\n",
      "       'out/not_out', 'runs', 'balls', '4s', '6s', 'SR'],\n",
      "      dtype='object')\n",
      "Bowling Summary Column:  -->  Index(['match_id', 'match', 'bowlingTeam', 'bowlerName', 'overs', 'maiden',\n",
      "       'runs', 'wickets', 'economy', '0s', '4s', '6s', 'wides', 'noBalls'],\n",
      "      dtype='object')\n"
     ]
    }
   ],
   "source": [
    "print(\"Match Summary Column:  --> \", match_summary.columns)\n",
    "print(\"Players Column:  --> \", players.columns)\n",
    "print(\"Batting Summary Column:  --> \", batting_summary.columns)\n",
    "print(\"Bowling Summary Column:  --> \", bowling_summary.columns)"
   ]
  },
  {
   "cell_type": "code",
   "execution_count": 4,
   "id": "7fd96ac7-1936-4104-96ef-b95bf21b0e7f",
   "metadata": {},
   "outputs": [
    {
     "name": "stdout",
     "output_type": "stream",
     "text": [
      "Match Summary :  -->  (206, 6)\n",
      "Players :  -->  (292, 5)\n",
      "Batting Summary :  -->  (3268, 11)\n",
      "Bowling Summary :  -->  (2436, 14)\n"
     ]
    }
   ],
   "source": [
    "print(\"Match Summary :  --> \", match_summary.shape)\n",
    "print(\"Players :  --> \", players.shape)\n",
    "print(\"Batting Summary :  --> \", batting_summary.shape)\n",
    "print(\"Bowling Summary :  --> \", bowling_summary.shape)"
   ]
  },
  {
   "cell_type": "markdown",
   "id": "de3206b0-e0c2-463c-9a11-2b1247afc7d4",
   "metadata": {},
   "source": [
    "### Data Cleaning"
   ]
  },
  {
   "cell_type": "code",
   "execution_count": 5,
   "id": "1cd7cf98-684c-4cfc-aa39-71ea45571096",
   "metadata": {},
   "outputs": [
    {
     "data": {
      "text/plain": [
       "team1        object\n",
       "team2        object\n",
       "winner       object\n",
       "margin       object\n",
       "matchDate    object\n",
       "match_id     object\n",
       "dtype: object"
      ]
     },
     "execution_count": 5,
     "metadata": {},
     "output_type": "execute_result"
    }
   ],
   "source": [
    "match_summary.dtypes"
   ]
  },
  {
   "cell_type": "code",
   "execution_count": 6,
   "id": "cc55dd22-36e2-47dc-b782-3c4f61bb24ad",
   "metadata": {},
   "outputs": [
    {
     "data": {
      "text/plain": [
       "match_id       object\n",
       "match          object\n",
       "teamInnings    object\n",
       "battingPos      int64\n",
       "batsmanName    object\n",
       "out/not_out    object\n",
       "runs            int64\n",
       "balls           int64\n",
       "4s              int64\n",
       "6s              int64\n",
       "SR             object\n",
       "dtype: object"
      ]
     },
     "execution_count": 6,
     "metadata": {},
     "output_type": "execute_result"
    }
   ],
   "source": [
    "batting_summary.dtypes"
   ]
  },
  {
   "cell_type": "code",
   "execution_count": 7,
   "id": "20715a30-a043-45a1-a47b-2eac5b02552f",
   "metadata": {},
   "outputs": [
    {
     "data": {
      "text/plain": [
       "array(['2021', '2022', '2023'], dtype=object)"
      ]
     },
     "execution_count": 7,
     "metadata": {},
     "output_type": "execute_result"
    }
   ],
   "source": [
    "match_summary['year']= (match_summary['matchDate']).str[-4:]\n",
    "match_summary['year'].unique()"
   ]
  },
  {
   "cell_type": "markdown",
   "id": "1a7bea05-40b4-4dac-ba91-4651eecdb3e3",
   "metadata": {},
   "source": [
    "### Player Stats"
   ]
  },
  {
   "cell_type": "markdown",
   "id": "a02b74f7-0a28-440b-a70b-1b48800c1af5",
   "metadata": {},
   "source": [
    "#### Create DF having Player name and Runs"
   ]
  },
  {
   "cell_type": "code",
   "execution_count": 8,
   "id": "e817396b-d09a-4fe1-98cb-52c26f8a3126",
   "metadata": {},
   "outputs": [],
   "source": [
    "playerStat  = pd.DataFrame(players['name'])"
   ]
  },
  {
   "cell_type": "code",
   "execution_count": 9,
   "id": "16643d21-fe86-4c50-ba52-e262ce016904",
   "metadata": {},
   "outputs": [],
   "source": [
    "batting_stat =  batting_summary.groupby('batsmanName').agg({'runs':'sum','balls':'sum','4s':'sum','6s':'sum'}).reset_index()"
   ]
  },
  {
   "cell_type": "code",
   "execution_count": 10,
   "id": "05ae1ea8-a5da-451d-87ef-140e4a53e972",
   "metadata": {},
   "outputs": [
    {
     "data": {
      "text/html": [
       "<div>\n",
       "<style scoped>\n",
       "    .dataframe tbody tr th:only-of-type {\n",
       "        vertical-align: middle;\n",
       "    }\n",
       "\n",
       "    .dataframe tbody tr th {\n",
       "        vertical-align: top;\n",
       "    }\n",
       "\n",
       "    .dataframe thead th {\n",
       "        text-align: right;\n",
       "    }\n",
       "</style>\n",
       "<table border=\"1\" class=\"dataframe\">\n",
       "  <thead>\n",
       "    <tr style=\"text-align: right;\">\n",
       "      <th></th>\n",
       "      <th>name</th>\n",
       "      <th>runs</th>\n",
       "      <th>Balls_Faced</th>\n",
       "      <th>4s</th>\n",
       "      <th>6s</th>\n",
       "    </tr>\n",
       "  </thead>\n",
       "  <tbody>\n",
       "    <tr>\n",
       "      <th>0</th>\n",
       "      <td>RuturajGaikwad</td>\n",
       "      <td>1593.0</td>\n",
       "      <td>1157.0</td>\n",
       "      <td>143.0</td>\n",
       "      <td>67.0</td>\n",
       "    </tr>\n",
       "    <tr>\n",
       "      <th>1</th>\n",
       "      <td>FafduPlessis</td>\n",
       "      <td>1831.0</td>\n",
       "      <td>1300.0</td>\n",
       "      <td>169.0</td>\n",
       "      <td>72.0</td>\n",
       "    </tr>\n",
       "  </tbody>\n",
       "</table>\n",
       "</div>"
      ],
      "text/plain": [
       "             name    runs  Balls_Faced     4s    6s\n",
       "0  RuturajGaikwad  1593.0       1157.0  143.0  67.0\n",
       "1    FafduPlessis  1831.0       1300.0  169.0  72.0"
      ]
     },
     "execution_count": 10,
     "metadata": {},
     "output_type": "execute_result"
    }
   ],
   "source": [
    "#add Runs in playerStat for further Analysis\n",
    "playerStat['runs'] = playerStat['name'].map(batting_stat.set_index('batsmanName')['runs'])\n",
    "playerStat['Balls_Faced'] = playerStat['name'].map(batting_stat.set_index('batsmanName')['balls'])\n",
    "playerStat['4s'] = playerStat['name'].map(batting_stat.set_index('batsmanName')['4s'])\n",
    "playerStat['6s'] = playerStat['name'].map(batting_stat.set_index('batsmanName')['6s'])\n",
    "playerStat.head(2)"
   ]
  },
  {
   "cell_type": "markdown",
   "id": "18cd8d50-13c2-4982-a616-ff4a4b0a4765",
   "metadata": {},
   "source": [
    "#### Calculating Batters Played at least 60 balls in Each Season"
   ]
  },
  {
   "cell_type": "code",
   "execution_count": 11,
   "id": "c7a38f68-27bc-46b7-ad02-d2f00e2febb6",
   "metadata": {},
   "outputs": [],
   "source": [
    "batting_and_matches = pd.merge(left=batting_summary, right=match_summary, how='inner')"
   ]
  },
  {
   "cell_type": "code",
   "execution_count": 12,
   "id": "1a11f1f3-1c94-43f1-9300-dbc1e97b3632",
   "metadata": {},
   "outputs": [
    {
     "data": {
      "text/plain": [
       "Index(['match_id', 'match', 'teamInnings', 'battingPos', 'batsmanName',\n",
       "       'out/not_out', 'runs', 'balls', '4s', '6s', 'SR', 'team1', 'team2',\n",
       "       'winner', 'margin', 'matchDate', 'year'],\n",
       "      dtype='object')"
      ]
     },
     "execution_count": 12,
     "metadata": {},
     "output_type": "execute_result"
    }
   ],
   "source": [
    "batting_and_matches.columns"
   ]
  },
  {
   "cell_type": "code",
   "execution_count": 13,
   "id": "13cd4ef7-8231-493b-91dd-799ccd966917",
   "metadata": {},
   "outputs": [],
   "source": [
    "#batting_stat.groupby(['batsmanName','year'])['balls'].sum()"
   ]
  },
  {
   "cell_type": "code",
   "execution_count": 14,
   "id": "25f25401-928c-42ba-9166-44ae2ade6357",
   "metadata": {},
   "outputs": [
    {
     "data": {
      "text/html": [
       "<div>\n",
       "<style scoped>\n",
       "    .dataframe tbody tr th:only-of-type {\n",
       "        vertical-align: middle;\n",
       "    }\n",
       "\n",
       "    .dataframe tbody tr th {\n",
       "        vertical-align: top;\n",
       "    }\n",
       "\n",
       "    .dataframe thead th {\n",
       "        text-align: right;\n",
       "    }\n",
       "</style>\n",
       "<table border=\"1\" class=\"dataframe\">\n",
       "  <thead>\n",
       "    <tr style=\"text-align: right;\">\n",
       "      <th>year</th>\n",
       "      <th>batsmanName</th>\n",
       "      <th>2021</th>\n",
       "      <th>2022</th>\n",
       "      <th>2023</th>\n",
       "      <th>Total</th>\n",
       "    </tr>\n",
       "    <tr>\n",
       "      <th>SRNO</th>\n",
       "      <th></th>\n",
       "      <th></th>\n",
       "      <th></th>\n",
       "      <th></th>\n",
       "      <th></th>\n",
       "    </tr>\n",
       "  </thead>\n",
       "  <tbody>\n",
       "    <tr>\n",
       "      <th>0</th>\n",
       "      <td>ABdeVilliers</td>\n",
       "      <td>211</td>\n",
       "      <td>0</td>\n",
       "      <td>0</td>\n",
       "      <td>211</td>\n",
       "    </tr>\n",
       "    <tr>\n",
       "      <th>1</th>\n",
       "      <td>AaronFinch</td>\n",
       "      <td>0</td>\n",
       "      <td>61</td>\n",
       "      <td>0</td>\n",
       "      <td>61</td>\n",
       "    </tr>\n",
       "  </tbody>\n",
       "</table>\n",
       "</div>"
      ],
      "text/plain": [
       "year   batsmanName  2021  2022  2023  Total\n",
       "SRNO                                       \n",
       "0     ABdeVilliers   211     0     0    211\n",
       "1       AaronFinch     0    61     0     61"
      ]
     },
     "execution_count": 14,
     "metadata": {},
     "output_type": "execute_result"
    }
   ],
   "source": [
    "# Pivot table\n",
    "balls_faced_by_batter = batting_and_matches.pivot_table(index='batsmanName', columns='year', values='balls', aggfunc='sum', fill_value=0)\n",
    "# Adding total column\n",
    "balls_faced_by_batter['Total'] = balls_faced_by_batter.sum(axis=1)\n",
    "balls_faced_by_batter = balls_faced_by_batter.reset_index()\n",
    "balls_faced_by_batter.index.names=['SRNO']\n",
    "balls_faced_by_batter.head(2)\n"
   ]
  },
  {
   "cell_type": "code",
   "execution_count": 15,
   "id": "de72d4c6-b414-4881-adc0-4473c421e614",
   "metadata": {},
   "outputs": [
    {
     "data": {
      "text/html": [
       "<div>\n",
       "<style scoped>\n",
       "    .dataframe tbody tr th:only-of-type {\n",
       "        vertical-align: middle;\n",
       "    }\n",
       "\n",
       "    .dataframe tbody tr th {\n",
       "        vertical-align: top;\n",
       "    }\n",
       "\n",
       "    .dataframe thead th {\n",
       "        text-align: right;\n",
       "    }\n",
       "</style>\n",
       "<table border=\"1\" class=\"dataframe\">\n",
       "  <thead>\n",
       "    <tr style=\"text-align: right;\">\n",
       "      <th>year</th>\n",
       "      <th>SRNO</th>\n",
       "      <th>batsmanName</th>\n",
       "      <th>2021</th>\n",
       "      <th>2022</th>\n",
       "      <th>2023</th>\n",
       "      <th>Total</th>\n",
       "    </tr>\n",
       "  </thead>\n",
       "  <tbody>\n",
       "    <tr>\n",
       "      <th>0</th>\n",
       "      <td>6</td>\n",
       "      <td>AbhishekSharma</td>\n",
       "      <td>69</td>\n",
       "      <td>320</td>\n",
       "      <td>157</td>\n",
       "      <td>546</td>\n",
       "    </tr>\n",
       "    <tr>\n",
       "      <th>1</th>\n",
       "      <td>11</td>\n",
       "      <td>AidenMarkram</td>\n",
       "      <td>119</td>\n",
       "      <td>274</td>\n",
       "      <td>197</td>\n",
       "      <td>590</td>\n",
       "    </tr>\n",
       "  </tbody>\n",
       "</table>\n",
       "</div>"
      ],
      "text/plain": [
       "year  SRNO     batsmanName  2021  2022  2023  Total\n",
       "0        6  AbhishekSharma    69   320   157    546\n",
       "1       11    AidenMarkram   119   274   197    590"
      ]
     },
     "execution_count": 15,
     "metadata": {},
     "output_type": "execute_result"
    }
   ],
   "source": [
    "#each Season 60 balls faced by batter\n",
    "eachSeasonBatter =  balls_faced_by_batter[(balls_faced_by_batter['2021'] >= 60) & (balls_faced_by_batter['2022'] >= 60) & (balls_faced_by_batter['2023'] >= 60)].reset_index()\n",
    "#update values after mapping\n",
    "playerStat['eachSeasonBatter'] = playerStat['name'].isin(eachSeasonBatter['batsmanName']).apply(lambda x: 'Yes' if x else 'No')\n",
    "#playerStat.value_counts('eachSeasonBatter')\n",
    "eachSeasonBatter.head(2)"
   ]
  },
  {
   "cell_type": "code",
   "execution_count": 16,
   "id": "22475a7d-d5e4-41fb-ab76-aa68f5c13a41",
   "metadata": {},
   "outputs": [],
   "source": [
    "#batting_summary.head()"
   ]
  },
  {
   "cell_type": "markdown",
   "id": "9221580c-2d11-4108-afa1-b68caca0227e",
   "metadata": {},
   "source": [
    "#### Batsman Out/Not Out Count required for average"
   ]
  },
  {
   "cell_type": "code",
   "execution_count": 17,
   "id": "ba5bfa12-5c5c-442d-b25d-4efab01e1722",
   "metadata": {},
   "outputs": [],
   "source": [
    "batsman_not_out = batting_summary[batting_summary['out/not_out']=='not_out'].groupby('batsmanName')['out/not_out'].count().reset_index()\n",
    "batsman_out = batting_summary[batting_summary['out/not_out']=='out'].groupby('batsmanName')['out/not_out'].count().reset_index()\n",
    "batsman_total_match = batting_summary.groupby('batsmanName')['out/not_out'].count().reset_index()\n"
   ]
  },
  {
   "cell_type": "code",
   "execution_count": 18,
   "id": "d6f516c7-2cca-46ce-a480-b3a8df22529b",
   "metadata": {},
   "outputs": [
    {
     "data": {
      "text/html": [
       "<div>\n",
       "<style scoped>\n",
       "    .dataframe tbody tr th:only-of-type {\n",
       "        vertical-align: middle;\n",
       "    }\n",
       "\n",
       "    .dataframe tbody tr th {\n",
       "        vertical-align: top;\n",
       "    }\n",
       "\n",
       "    .dataframe thead th {\n",
       "        text-align: right;\n",
       "    }\n",
       "</style>\n",
       "<table border=\"1\" class=\"dataframe\">\n",
       "  <thead>\n",
       "    <tr style=\"text-align: right;\">\n",
       "      <th></th>\n",
       "      <th>name</th>\n",
       "      <th>runs</th>\n",
       "      <th>Balls_Faced</th>\n",
       "      <th>4s</th>\n",
       "      <th>6s</th>\n",
       "      <th>eachSeasonBatter</th>\n",
       "      <th>not_out</th>\n",
       "      <th>out</th>\n",
       "      <th>Matches_Batted</th>\n",
       "    </tr>\n",
       "  </thead>\n",
       "  <tbody>\n",
       "    <tr>\n",
       "      <th>0</th>\n",
       "      <td>RuturajGaikwad</td>\n",
       "      <td>1593.0</td>\n",
       "      <td>1157.0</td>\n",
       "      <td>143.0</td>\n",
       "      <td>67.0</td>\n",
       "      <td>Yes</td>\n",
       "      <td>3.0</td>\n",
       "      <td>42.0</td>\n",
       "      <td>45.0</td>\n",
       "    </tr>\n",
       "    <tr>\n",
       "      <th>1</th>\n",
       "      <td>FafduPlessis</td>\n",
       "      <td>1831.0</td>\n",
       "      <td>1300.0</td>\n",
       "      <td>169.0</td>\n",
       "      <td>72.0</td>\n",
       "      <td>Yes</td>\n",
       "      <td>4.0</td>\n",
       "      <td>42.0</td>\n",
       "      <td>46.0</td>\n",
       "    </tr>\n",
       "  </tbody>\n",
       "</table>\n",
       "</div>"
      ],
      "text/plain": [
       "             name    runs  Balls_Faced     4s    6s eachSeasonBatter  not_out  \\\n",
       "0  RuturajGaikwad  1593.0       1157.0  143.0  67.0              Yes      3.0   \n",
       "1    FafduPlessis  1831.0       1300.0  169.0  72.0              Yes      4.0   \n",
       "\n",
       "    out  Matches_Batted  \n",
       "0  42.0            45.0  \n",
       "1  42.0            46.0  "
      ]
     },
     "execution_count": 18,
     "metadata": {},
     "output_type": "execute_result"
    }
   ],
   "source": [
    "playerStat['not_out'] = playerStat['name'].map(batsman_not_out.set_index('batsmanName')['out/not_out'])\n",
    "playerStat['out'] = playerStat['name'].map(batsman_out.set_index('batsmanName')['out/not_out'])\n",
    "playerStat['Matches_Batted'] = playerStat['name'].map(batsman_total_match.set_index('batsmanName')['out/not_out'])\n",
    "playerStat.head(2)"
   ]
  },
  {
   "cell_type": "code",
   "execution_count": 19,
   "id": "228474cf-6dbe-4278-8d2e-803f76762275",
   "metadata": {},
   "outputs": [],
   "source": [
    "playerStat['not_out'] = playerStat['not_out'].fillna(0)\n",
    "playerStat['out'] = playerStat['out'].fillna(0)\n",
    "playerStat['Matches_Batted'] = playerStat['Matches_Batted'].fillna(0)"
   ]
  },
  {
   "cell_type": "markdown",
   "id": "3eeb7121-07d1-4fc9-8afb-13dedfa38b16",
   "metadata": {},
   "source": [
    "#### Calculate Batting Average"
   ]
  },
  {
   "cell_type": "code",
   "execution_count": 20,
   "id": "24e7aa5f-3439-4e59-b39e-6514d59d4305",
   "metadata": {},
   "outputs": [],
   "source": [
    "playerStat['avgBattingRuns'] = np.round(playerStat['runs']/playerStat['out'],2)\n",
    "#cleaning NaN values\n",
    "playerStat.loc[playerStat['out'] == 0, 'avgBattingRuns'] = playerStat['runs']"
   ]
  },
  {
   "cell_type": "code",
   "execution_count": 21,
   "id": "2b479105-0355-4c94-b4b4-e122efff6f76",
   "metadata": {},
   "outputs": [
    {
     "data": {
      "text/html": [
       "<div>\n",
       "<style scoped>\n",
       "    .dataframe tbody tr th:only-of-type {\n",
       "        vertical-align: middle;\n",
       "    }\n",
       "\n",
       "    .dataframe tbody tr th {\n",
       "        vertical-align: top;\n",
       "    }\n",
       "\n",
       "    .dataframe thead th {\n",
       "        text-align: right;\n",
       "    }\n",
       "</style>\n",
       "<table border=\"1\" class=\"dataframe\">\n",
       "  <thead>\n",
       "    <tr style=\"text-align: right;\">\n",
       "      <th></th>\n",
       "      <th>name</th>\n",
       "      <th>runs</th>\n",
       "      <th>Balls_Faced</th>\n",
       "      <th>4s</th>\n",
       "      <th>6s</th>\n",
       "      <th>eachSeasonBatter</th>\n",
       "      <th>not_out</th>\n",
       "      <th>out</th>\n",
       "      <th>Matches_Batted</th>\n",
       "      <th>avgBattingRuns</th>\n",
       "    </tr>\n",
       "  </thead>\n",
       "  <tbody>\n",
       "    <tr>\n",
       "      <th>0</th>\n",
       "      <td>RuturajGaikwad</td>\n",
       "      <td>1593.0</td>\n",
       "      <td>1157.0</td>\n",
       "      <td>143.0</td>\n",
       "      <td>67.0</td>\n",
       "      <td>Yes</td>\n",
       "      <td>3.0</td>\n",
       "      <td>42.0</td>\n",
       "      <td>45.0</td>\n",
       "      <td>37.93</td>\n",
       "    </tr>\n",
       "    <tr>\n",
       "      <th>1</th>\n",
       "      <td>FafduPlessis</td>\n",
       "      <td>1831.0</td>\n",
       "      <td>1300.0</td>\n",
       "      <td>169.0</td>\n",
       "      <td>72.0</td>\n",
       "      <td>Yes</td>\n",
       "      <td>4.0</td>\n",
       "      <td>42.0</td>\n",
       "      <td>46.0</td>\n",
       "      <td>43.60</td>\n",
       "    </tr>\n",
       "    <tr>\n",
       "      <th>2</th>\n",
       "      <td>RobinUthappa</td>\n",
       "      <td>345.0</td>\n",
       "      <td>255.0</td>\n",
       "      <td>27.0</td>\n",
       "      <td>19.0</td>\n",
       "      <td>No</td>\n",
       "      <td>0.0</td>\n",
       "      <td>15.0</td>\n",
       "      <td>15.0</td>\n",
       "      <td>23.00</td>\n",
       "    </tr>\n",
       "    <tr>\n",
       "      <th>3</th>\n",
       "      <td>MoeenAli</td>\n",
       "      <td>725.0</td>\n",
       "      <td>528.0</td>\n",
       "      <td>67.0</td>\n",
       "      <td>36.0</td>\n",
       "      <td>Yes</td>\n",
       "      <td>4.0</td>\n",
       "      <td>31.0</td>\n",
       "      <td>35.0</td>\n",
       "      <td>23.39</td>\n",
       "    </tr>\n",
       "    <tr>\n",
       "      <th>4</th>\n",
       "      <td>ShubmanGill</td>\n",
       "      <td>1851.0</td>\n",
       "      <td>1331.0</td>\n",
       "      <td>186.0</td>\n",
       "      <td>56.0</td>\n",
       "      <td>Yes</td>\n",
       "      <td>4.0</td>\n",
       "      <td>46.0</td>\n",
       "      <td>50.0</td>\n",
       "      <td>40.24</td>\n",
       "    </tr>\n",
       "  </tbody>\n",
       "</table>\n",
       "</div>"
      ],
      "text/plain": [
       "             name    runs  Balls_Faced     4s    6s eachSeasonBatter  not_out  \\\n",
       "0  RuturajGaikwad  1593.0       1157.0  143.0  67.0              Yes      3.0   \n",
       "1    FafduPlessis  1831.0       1300.0  169.0  72.0              Yes      4.0   \n",
       "2    RobinUthappa   345.0        255.0   27.0  19.0               No      0.0   \n",
       "3        MoeenAli   725.0        528.0   67.0  36.0              Yes      4.0   \n",
       "4     ShubmanGill  1851.0       1331.0  186.0  56.0              Yes      4.0   \n",
       "\n",
       "    out  Matches_Batted  avgBattingRuns  \n",
       "0  42.0            45.0           37.93  \n",
       "1  42.0            46.0           43.60  \n",
       "2  15.0            15.0           23.00  \n",
       "3  31.0            35.0           23.39  \n",
       "4  46.0            50.0           40.24  "
      ]
     },
     "execution_count": 21,
     "metadata": {},
     "output_type": "execute_result"
    }
   ],
   "source": [
    "playerStat.head()"
   ]
  },
  {
   "cell_type": "markdown",
   "id": "87e3df0c-0bc0-434f-8250-13c2cea8860f",
   "metadata": {},
   "source": [
    "#### Calculate Strike Rate"
   ]
  },
  {
   "cell_type": "code",
   "execution_count": 22,
   "id": "206b173c-2f96-4cea-8628-a1f1b05e4570",
   "metadata": {},
   "outputs": [],
   "source": [
    "playerStat['strikeRate'] = np.round(100*playerStat['runs']/playerStat['Balls_Faced'],2)\n",
    "#cleaning NaN values\n",
    "#playerStat.loc[playerStat['out'] == 0, 'avgBattingRuns'] = playerStat['runs']"
   ]
  },
  {
   "cell_type": "code",
   "execution_count": 23,
   "id": "c19d1fc4-01fd-4c5a-971a-48348718c8c6",
   "metadata": {},
   "outputs": [
    {
     "data": {
      "text/html": [
       "<div>\n",
       "<style scoped>\n",
       "    .dataframe tbody tr th:only-of-type {\n",
       "        vertical-align: middle;\n",
       "    }\n",
       "\n",
       "    .dataframe tbody tr th {\n",
       "        vertical-align: top;\n",
       "    }\n",
       "\n",
       "    .dataframe thead th {\n",
       "        text-align: right;\n",
       "    }\n",
       "</style>\n",
       "<table border=\"1\" class=\"dataframe\">\n",
       "  <thead>\n",
       "    <tr style=\"text-align: right;\">\n",
       "      <th></th>\n",
       "      <th>name</th>\n",
       "      <th>runs</th>\n",
       "      <th>Balls_Faced</th>\n",
       "      <th>4s</th>\n",
       "      <th>6s</th>\n",
       "      <th>eachSeasonBatter</th>\n",
       "      <th>not_out</th>\n",
       "      <th>out</th>\n",
       "      <th>Matches_Batted</th>\n",
       "      <th>avgBattingRuns</th>\n",
       "      <th>strikeRate</th>\n",
       "    </tr>\n",
       "  </thead>\n",
       "  <tbody>\n",
       "    <tr>\n",
       "      <th>0</th>\n",
       "      <td>RuturajGaikwad</td>\n",
       "      <td>1593.0</td>\n",
       "      <td>1157.0</td>\n",
       "      <td>143.0</td>\n",
       "      <td>67.0</td>\n",
       "      <td>Yes</td>\n",
       "      <td>3.0</td>\n",
       "      <td>42.0</td>\n",
       "      <td>45.0</td>\n",
       "      <td>37.93</td>\n",
       "      <td>137.68</td>\n",
       "    </tr>\n",
       "    <tr>\n",
       "      <th>1</th>\n",
       "      <td>FafduPlessis</td>\n",
       "      <td>1831.0</td>\n",
       "      <td>1300.0</td>\n",
       "      <td>169.0</td>\n",
       "      <td>72.0</td>\n",
       "      <td>Yes</td>\n",
       "      <td>4.0</td>\n",
       "      <td>42.0</td>\n",
       "      <td>46.0</td>\n",
       "      <td>43.60</td>\n",
       "      <td>140.85</td>\n",
       "    </tr>\n",
       "    <tr>\n",
       "      <th>2</th>\n",
       "      <td>RobinUthappa</td>\n",
       "      <td>345.0</td>\n",
       "      <td>255.0</td>\n",
       "      <td>27.0</td>\n",
       "      <td>19.0</td>\n",
       "      <td>No</td>\n",
       "      <td>0.0</td>\n",
       "      <td>15.0</td>\n",
       "      <td>15.0</td>\n",
       "      <td>23.00</td>\n",
       "      <td>135.29</td>\n",
       "    </tr>\n",
       "    <tr>\n",
       "      <th>3</th>\n",
       "      <td>MoeenAli</td>\n",
       "      <td>725.0</td>\n",
       "      <td>528.0</td>\n",
       "      <td>67.0</td>\n",
       "      <td>36.0</td>\n",
       "      <td>Yes</td>\n",
       "      <td>4.0</td>\n",
       "      <td>31.0</td>\n",
       "      <td>35.0</td>\n",
       "      <td>23.39</td>\n",
       "      <td>137.31</td>\n",
       "    </tr>\n",
       "    <tr>\n",
       "      <th>4</th>\n",
       "      <td>ShubmanGill</td>\n",
       "      <td>1851.0</td>\n",
       "      <td>1331.0</td>\n",
       "      <td>186.0</td>\n",
       "      <td>56.0</td>\n",
       "      <td>Yes</td>\n",
       "      <td>4.0</td>\n",
       "      <td>46.0</td>\n",
       "      <td>50.0</td>\n",
       "      <td>40.24</td>\n",
       "      <td>139.07</td>\n",
       "    </tr>\n",
       "  </tbody>\n",
       "</table>\n",
       "</div>"
      ],
      "text/plain": [
       "             name    runs  Balls_Faced     4s    6s eachSeasonBatter  not_out  \\\n",
       "0  RuturajGaikwad  1593.0       1157.0  143.0  67.0              Yes      3.0   \n",
       "1    FafduPlessis  1831.0       1300.0  169.0  72.0              Yes      4.0   \n",
       "2    RobinUthappa   345.0        255.0   27.0  19.0               No      0.0   \n",
       "3        MoeenAli   725.0        528.0   67.0  36.0              Yes      4.0   \n",
       "4     ShubmanGill  1851.0       1331.0  186.0  56.0              Yes      4.0   \n",
       "\n",
       "    out  Matches_Batted  avgBattingRuns  strikeRate  \n",
       "0  42.0            45.0           37.93      137.68  \n",
       "1  42.0            46.0           43.60      140.85  \n",
       "2  15.0            15.0           23.00      135.29  \n",
       "3  31.0            35.0           23.39      137.31  \n",
       "4  46.0            50.0           40.24      139.07  "
      ]
     },
     "execution_count": 23,
     "metadata": {},
     "output_type": "execute_result"
    }
   ],
   "source": [
    "playerStat.head()"
   ]
  },
  {
   "cell_type": "markdown",
   "id": "991820fa-9fb4-413e-b274-08fd7bb10fb2",
   "metadata": {},
   "source": [
    "#### `Calculate Boundary %"
   ]
  },
  {
   "cell_type": "code",
   "execution_count": 24,
   "id": "c204f253-9ace-4905-962f-897bd9a3aa5b",
   "metadata": {},
   "outputs": [],
   "source": [
    "playerStat['boundary_percentage'] = round(100*(playerStat['4s']*4 + playerStat['6s']*6)/playerStat['runs'],2)"
   ]
  },
  {
   "cell_type": "code",
   "execution_count": 25,
   "id": "fd74a098-7f43-4426-b635-93ed37eb2940",
   "metadata": {},
   "outputs": [],
   "source": [
    "#playerStat"
   ]
  },
  {
   "cell_type": "markdown",
   "id": "c0237648-e201-433a-be12-6daea10a778f",
   "metadata": {},
   "source": [
    "### Top 10 Batsman"
   ]
  },
  {
   "cell_type": "markdown",
   "id": "d0ced8dd-0fd8-440f-b268-4fc42521e34e",
   "metadata": {},
   "source": [
    "#### Based on Total Runs in Past 3 Years"
   ]
  },
  {
   "cell_type": "code",
   "execution_count": 26,
   "id": "71d5c0c0-2241-4245-96ba-b574b1b4a032",
   "metadata": {},
   "outputs": [
    {
     "name": "stdout",
     "output_type": "stream",
     "text": [
      "               name    runs\n",
      "1       ShubmanGill  1851.0\n",
      "2      FafduPlessis  1831.0\n",
      "3    RuturajGaikwad  1593.0\n",
      "4           KLRahul  1516.0\n",
      "5        JosButtler  1509.0\n",
      "6     ShikharDhawan  1392.0\n",
      "7        ViratKohli  1385.0\n",
      "8       SanjuSamson  1304.0\n",
      "9   SuryakumarYadav  1225.0\n",
      "10     GlennMaxwell  1214.0\n"
     ]
    }
   ],
   "source": [
    "#top 10 batsman\n",
    "top_10_batsmen_by_runs = playerStat.nlargest(10, 'runs').reset_index(drop=True)\n",
    "# Set the index starting from 1\n",
    "top_10_batsmen_by_runs.index = top_10_batsmen_by_runs.index + 1\n",
    "top_10_batsmen_by_runs = top_10_batsmen_by_runs[['name','runs']]\n",
    "print(top_10_batsmen_by_runs)"
   ]
  },
  {
   "cell_type": "markdown",
   "id": "96178313-8f03-4d33-9445-61a6ae4e0be5",
   "metadata": {},
   "source": [
    "#### Based on Average"
   ]
  },
  {
   "cell_type": "code",
   "execution_count": 27,
   "id": "1d9accad-c03d-495a-a9d1-d32499dd9d69",
   "metadata": {},
   "outputs": [
    {
     "name": "stdout",
     "output_type": "stream",
     "text": [
      "               name  avgBattingRuns\n",
      "1           KLRahul           50.53\n",
      "2      FafduPlessis           43.60\n",
      "3       DavidMiller           43.20\n",
      "4        JosButtler           41.92\n",
      "5    ShimronHetmyer           40.67\n",
      "6       ShubmanGill           40.24\n",
      "7     ShikharDhawan           39.77\n",
      "8    RuturajGaikwad           37.93\n",
      "9       DavidWarner           37.90\n",
      "10  SuryakumarYadav           35.00\n"
     ]
    }
   ],
   "source": [
    "#Top 10 Batter Based on Past 3 years Average\n",
    "top_10_batsmen_by_avg = playerStat[playerStat['eachSeasonBatter'] == 'Yes'].nlargest(10, 'avgBattingRuns').reset_index(drop=True)\n",
    "# Set the index starting from 1\n",
    "top_10_batsmen_by_avg.index = top_10_batsmen_by_avg.index + 1\n",
    "top_10_batsmen_by_avg = top_10_batsmen_by_avg[['name','avgBattingRuns']]\n",
    "print(top_10_batsmen_by_avg)"
   ]
  },
  {
   "cell_type": "markdown",
   "id": "04b88cbf-a7c2-44cc-84ce-f8258f35f130",
   "metadata": {},
   "source": [
    "#### Based on Strike Rate"
   ]
  },
  {
   "cell_type": "code",
   "execution_count": 28,
   "id": "4f82128b-c72c-4c53-a221-9887037bd67c",
   "metadata": {},
   "outputs": [
    {
     "name": "stdout",
     "output_type": "stream",
     "text": [
      "               name  strikeRate\n",
      "1      GlennMaxwell      161.44\n",
      "2   SuryakumarYadav      160.55\n",
      "3      AndreRussell      159.19\n",
      "4    ShimronHetmyer      157.27\n",
      "5    NicholasPooran      157.11\n",
      "6       PrithviShaw      153.20\n",
      "7     DineshKarthik      152.64\n",
      "8   YashasviJaiswal      152.15\n",
      "9        JosButtler      146.93\n",
      "10       ShivamDube      145.95\n"
     ]
    }
   ],
   "source": [
    "#Top 10 Batter Based on Past 3 years Strike Rate\n",
    "top_10_batsmen_by_sr = playerStat[playerStat['eachSeasonBatter'] == 'Yes'].nlargest(10, 'strikeRate').reset_index(drop=True)\n",
    "# Set the index starting from 1\n",
    "top_10_batsmen_by_sr.index = top_10_batsmen_by_sr.index + 1\n",
    "top_10_batsmen_by_sr = top_10_batsmen_by_sr[['name','strikeRate']]\n",
    "print(top_10_batsmen_by_sr)"
   ]
  },
  {
   "cell_type": "markdown",
   "id": "4399b80e-96d4-4930-8c96-2b4aff838c5c",
   "metadata": {},
   "source": [
    "#### Based on Boundary %"
   ]
  },
  {
   "cell_type": "code",
   "execution_count": null,
   "id": "a43addc1-1355-4c47-9817-2f8e2bb68d9f",
   "metadata": {},
   "outputs": [],
   "source": []
  },
  {
   "cell_type": "markdown",
   "id": "76e0d9d0-d8fe-4ace-a3e3-5a0071380b6b",
   "metadata": {},
   "source": [
    "### Top 10 Bowlers"
   ]
  },
  {
   "cell_type": "markdown",
   "id": "f0a90259-239e-441e-8759-d30578ec1675",
   "metadata": {
    "jp-MarkdownHeadingCollapsed": true
   },
   "source": [
    "#### Based on Total Wickets in Past 3 Years"
   ]
  },
  {
   "cell_type": "code",
   "execution_count": 29,
   "id": "0b34f1e0-015b-4488-aee2-bf11d5286564",
   "metadata": {},
   "outputs": [],
   "source": [
    "bowlers_and_wickets = bowling_summary.groupby('bowlerName')['wickets'].sum().reset_index()"
   ]
  },
  {
   "cell_type": "code",
   "execution_count": 30,
   "id": "269cf9a5-1f1b-426f-9f98-028fc709fadd",
   "metadata": {},
   "outputs": [],
   "source": [
    "#bowlers_and_wickets.head()"
   ]
  },
  {
   "cell_type": "code",
   "execution_count": 31,
   "id": "13a431ff-a5b8-4b1b-ab14-473d885acdba",
   "metadata": {},
   "outputs": [
    {
     "name": "stdout",
     "output_type": "stream",
     "text": [
      "           bowlerName  wickets\n",
      "1       MohammedShami       67\n",
      "2     YuzvendraChahal       66\n",
      "3        HarshalPatel       65\n",
      "4          RashidKhan       63\n",
      "5           AveshKhan       47\n",
      "6       ArshdeepSingh       45\n",
      "7        KagisoRabada       45\n",
      "8   VarunChakravarthy       44\n",
      "9       ShardulThakur       43\n",
      "10         TrentBoult       42\n"
     ]
    }
   ],
   "source": [
    "#top 10 bowlers\n",
    "top_10_bowler = bowlers_and_wickets.nlargest(10, 'wickets').reset_index(drop=True)\n",
    "# Set the index starting from 1\n",
    "top_10_bowler.index = top_10_bowler.index + 1\n",
    "print(top_10_bowler)"
   ]
  },
  {
   "cell_type": "markdown",
   "id": "c4ac57f0-668f-4a85-b41c-a41acb5ea47a",
   "metadata": {
    "jp-MarkdownHeadingCollapsed": true
   },
   "source": [
    "#### Calculating Bowler who has bowled at least 60 balls in each season"
   ]
  },
  {
   "cell_type": "code",
   "execution_count": null,
   "id": "2e4b92a4-6695-4a45-a407-3f37d276443b",
   "metadata": {},
   "outputs": [],
   "source": []
  },
  {
   "cell_type": "markdown",
   "id": "8b4112b4-1562-4d9e-8f37-3c77ee98a73d",
   "metadata": {
    "jp-MarkdownHeadingCollapsed": true
   },
   "source": [
    "#### Based on Average"
   ]
  },
  {
   "cell_type": "code",
   "execution_count": null,
   "id": "ae410533-0d1f-42e6-a276-fb306380f5dd",
   "metadata": {},
   "outputs": [],
   "source": []
  },
  {
   "cell_type": "markdown",
   "id": "ecd4cdae-0a00-4e0e-bb39-ea9a3aa4a0dd",
   "metadata": {
    "jp-MarkdownHeadingCollapsed": true
   },
   "source": [
    "#### Based on Economy"
   ]
  },
  {
   "cell_type": "code",
   "execution_count": null,
   "id": "55542990-6613-4885-a4e3-35e633422e34",
   "metadata": {},
   "outputs": [],
   "source": []
  },
  {
   "cell_type": "markdown",
   "id": "3c9b562f-08d7-47e4-b39b-7b20416cc7a3",
   "metadata": {},
   "source": [
    "#### Based on Dot Ball %"
   ]
  },
  {
   "cell_type": "code",
   "execution_count": null,
   "id": "ee17650f-224e-4840-a901-4fed2f97cfb5",
   "metadata": {},
   "outputs": [],
   "source": []
  }
 ],
 "metadata": {
  "kernelspec": {
   "display_name": "Python 3 (ipykernel)",
   "language": "python",
   "name": "python3"
  },
  "language_info": {
   "codemirror_mode": {
    "name": "ipython",
    "version": 3
   },
   "file_extension": ".py",
   "mimetype": "text/x-python",
   "name": "python",
   "nbconvert_exporter": "python",
   "pygments_lexer": "ipython3",
   "version": "3.11.5"
  }
 },
 "nbformat": 4,
 "nbformat_minor": 5
}
