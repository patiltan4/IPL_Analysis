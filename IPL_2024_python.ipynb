{
 "cells": [
  {
   "cell_type": "markdown",
   "id": "edcc848c-4507-4706-b6fb-9c208c3671b3",
   "metadata": {},
   "source": [
    "# Analysis of IPL DATA"
   ]
  },
  {
   "cell_type": "markdown",
   "id": "32733759-14f0-4678-a362-4332b52a0eed",
   "metadata": {},
   "source": [
    "\"Sports Basics\" is a sports blog company that entered space recently.  They wanted to get more traffic to their website by releasing a special edition magazine on IPL 2024.  This magazine aims to provide interesting insights and facts for fans, analysts and teams based on the last 3 years' data."
   ]
  },
  {
   "cell_type": "markdown",
   "id": "dc33ed54-f2f2-4df7-8e70-b5f07e53a53c",
   "metadata": {},
   "source": [
    "### Importing Libraries"
   ]
  },
  {
   "cell_type": "code",
   "execution_count": 1,
   "id": "72d4692b-f380-4ec2-8668-98de78fcc2c4",
   "metadata": {},
   "outputs": [],
   "source": [
    "import numpy as np\n",
    "import pandas as pd\n",
    "import matplotlib.pyplot as plt\n",
    "import math"
   ]
  },
  {
   "cell_type": "markdown",
   "id": "2a30904b-a203-4323-835f-156dce3b8a6d",
   "metadata": {},
   "source": [
    "### Importing Data"
   ]
  },
  {
   "cell_type": "code",
   "execution_count": 2,
   "id": "d577baea-ecb8-4f89-aa08-6975092078a0",
   "metadata": {},
   "outputs": [],
   "source": [
    "match_summary = pd.read_csv('D:\\Projects\\IPL_2024_Project\\C10_Input_Files\\datasets\\dim_match_summary.csv')\n",
    "players = pd.read_csv('D:\\Projects\\IPL_2024_Project\\C10_Input_Files\\datasets\\dim_players.csv')\n",
    "batting_summary = pd.read_csv(r'D:\\Projects\\IPL_2024_Project\\C10_Input_Files\\datasets\\fact_bating_summary.csv')\n",
    "bowling_summary = pd.read_csv(r'D:\\Projects\\IPL_2024_Project\\C10_Input_Files\\datasets\\fact_bowling_summary.csv')\n",
    "                        "
   ]
  },
  {
   "cell_type": "code",
   "execution_count": 3,
   "id": "7f857bb2-295c-48db-af76-f112ca456f2a",
   "metadata": {},
   "outputs": [
    {
     "name": "stdout",
     "output_type": "stream",
     "text": [
      "Match Summary Column:  -->  Index(['team1', 'team2', 'winner', 'margin', 'matchDate', 'match_id'], dtype='object')\n",
      "Players Column:  -->  Index(['name', 'team', 'battingStyle', 'bowlingStyle', 'playingRole'], dtype='object')\n",
      "Batting Summary Column:  -->  Index(['match_id', 'match', 'teamInnings', 'battingPos', 'batsmanName',\n",
      "       'out/not_out', 'runs', 'balls', '4s', '6s', 'SR'],\n",
      "      dtype='object')\n",
      "Bowling Summary Column:  -->  Index(['match_id', 'match', 'bowlingTeam', 'bowlerName', 'overs', 'maiden',\n",
      "       'runs', 'wickets', 'economy', '0s', '4s', '6s', 'wides', 'noBalls'],\n",
      "      dtype='object')\n"
     ]
    }
   ],
   "source": [
    "print(\"Match Summary Column:  --> \", match_summary.columns)\n",
    "print(\"Players Column:  --> \", players.columns)\n",
    "print(\"Batting Summary Column:  --> \", batting_summary.columns)\n",
    "print(\"Bowling Summary Column:  --> \", bowling_summary.columns)"
   ]
  },
  {
   "cell_type": "code",
   "execution_count": 4,
   "id": "7fd96ac7-1936-4104-96ef-b95bf21b0e7f",
   "metadata": {},
   "outputs": [
    {
     "name": "stdout",
     "output_type": "stream",
     "text": [
      "Match Summary :  -->  (206, 6)\n",
      "Players :  -->  (292, 5)\n",
      "Batting Summary :  -->  (3268, 11)\n",
      "Bowling Summary :  -->  (2436, 14)\n"
     ]
    }
   ],
   "source": [
    "print(\"Match Summary :  --> \", match_summary.shape)\n",
    "print(\"Players :  --> \", players.shape)\n",
    "print(\"Batting Summary :  --> \", batting_summary.shape)\n",
    "print(\"Bowling Summary :  --> \", bowling_summary.shape)"
   ]
  },
  {
   "cell_type": "markdown",
   "id": "de3206b0-e0c2-463c-9a11-2b1247afc7d4",
   "metadata": {},
   "source": [
    "### Data Cleaning"
   ]
  },
  {
   "cell_type": "code",
   "execution_count": 5,
   "id": "1cd7cf98-684c-4cfc-aa39-71ea45571096",
   "metadata": {},
   "outputs": [
    {
     "data": {
      "text/plain": [
       "team1        object\n",
       "team2        object\n",
       "winner       object\n",
       "margin       object\n",
       "matchDate    object\n",
       "match_id     object\n",
       "dtype: object"
      ]
     },
     "execution_count": 5,
     "metadata": {},
     "output_type": "execute_result"
    }
   ],
   "source": [
    "match_summary.dtypes"
   ]
  },
  {
   "cell_type": "code",
   "execution_count": 6,
   "id": "cc55dd22-36e2-47dc-b782-3c4f61bb24ad",
   "metadata": {},
   "outputs": [
    {
     "data": {
      "text/plain": [
       "match_id       object\n",
       "match          object\n",
       "teamInnings    object\n",
       "battingPos      int64\n",
       "batsmanName    object\n",
       "out/not_out    object\n",
       "runs            int64\n",
       "balls           int64\n",
       "4s              int64\n",
       "6s              int64\n",
       "SR             object\n",
       "dtype: object"
      ]
     },
     "execution_count": 6,
     "metadata": {},
     "output_type": "execute_result"
    }
   ],
   "source": [
    "batting_summary.dtypes"
   ]
  },
  {
   "cell_type": "code",
   "execution_count": 7,
   "id": "20715a30-a043-45a1-a47b-2eac5b02552f",
   "metadata": {},
   "outputs": [
    {
     "data": {
      "text/plain": [
       "array(['2021', '2022', '2023'], dtype=object)"
      ]
     },
     "execution_count": 7,
     "metadata": {},
     "output_type": "execute_result"
    }
   ],
   "source": [
    "match_summary['year']= (match_summary['matchDate']).str[-4:]\n",
    "match_summary['year'].unique()"
   ]
  },
  {
   "cell_type": "code",
   "execution_count": 8,
   "id": "4bdcf75f-e7fb-44cd-80ea-0a7c35617bf4",
   "metadata": {},
   "outputs": [
    {
     "name": "stdout",
     "output_type": "stream",
     "text": [
      "Number of balls: 20\n"
     ]
    }
   ],
   "source": [
    "get_balls_from_overs = lambda p_over: int(p_over) * 6 if np.floor(p_over) == p_over else (1 + int(p_over) * 6 if np.floor(p_over) + 0.1 == p_over else int(np.floor(p_over)) * 6 + int((p_over - np.floor(p_over)) * 10))\n",
    "\n",
    "# To test the lambda function\n",
    "p_over = 3.3\n",
    "no_of_balls = get_balls_from_overs(p_over)\n",
    "print(\"Number of balls:\", no_of_balls)"
   ]
  },
  {
   "cell_type": "code",
   "execution_count": 9,
   "id": "96ae4b7b-9f01-4cab-a82d-7c4d6b70d108",
   "metadata": {},
   "outputs": [],
   "source": [
    "bowling_summary['balls_bowled'] = bowling_summary['overs'].apply(lambda x: get_balls_from_overs(x))"
   ]
  },
  {
   "cell_type": "markdown",
   "id": "1a7bea05-40b4-4dac-ba91-4651eecdb3e3",
   "metadata": {},
   "source": [
    "### Player Stats"
   ]
  },
  {
   "cell_type": "markdown",
   "id": "a02b74f7-0a28-440b-a70b-1b48800c1af5",
   "metadata": {},
   "source": [
    "#### Create DataFrame having Player name and Stats"
   ]
  },
  {
   "cell_type": "code",
   "execution_count": 10,
   "id": "713cf2e3-72c2-4812-aeb8-a03505025e24",
   "metadata": {},
   "outputs": [
    {
     "data": {
      "text/html": [
       "<div>\n",
       "<style scoped>\n",
       "    .dataframe tbody tr th:only-of-type {\n",
       "        vertical-align: middle;\n",
       "    }\n",
       "\n",
       "    .dataframe tbody tr th {\n",
       "        vertical-align: top;\n",
       "    }\n",
       "\n",
       "    .dataframe thead th {\n",
       "        text-align: right;\n",
       "    }\n",
       "</style>\n",
       "<table border=\"1\" class=\"dataframe\">\n",
       "  <thead>\n",
       "    <tr style=\"text-align: right;\">\n",
       "      <th></th>\n",
       "      <th>match_id</th>\n",
       "      <th>match</th>\n",
       "      <th>bowlingTeam</th>\n",
       "      <th>bowlerName</th>\n",
       "      <th>overs</th>\n",
       "      <th>maiden</th>\n",
       "      <th>runs</th>\n",
       "      <th>wickets</th>\n",
       "      <th>economy</th>\n",
       "      <th>0s</th>\n",
       "      <th>4s</th>\n",
       "      <th>6s</th>\n",
       "      <th>wides</th>\n",
       "      <th>noBalls</th>\n",
       "      <th>balls_bowled</th>\n",
       "    </tr>\n",
       "  </thead>\n",
       "  <tbody>\n",
       "    <tr>\n",
       "      <th>0</th>\n",
       "      <td>T203817</td>\n",
       "      <td>Super Kings Vs KKR</td>\n",
       "      <td>KKR</td>\n",
       "      <td>ShakibAlHasan</td>\n",
       "      <td>3.0</td>\n",
       "      <td>0</td>\n",
       "      <td>33</td>\n",
       "      <td>0</td>\n",
       "      <td>11.00</td>\n",
       "      <td>6</td>\n",
       "      <td>2</td>\n",
       "      <td>3</td>\n",
       "      <td>0</td>\n",
       "      <td>0</td>\n",
       "      <td>18</td>\n",
       "    </tr>\n",
       "    <tr>\n",
       "      <th>1</th>\n",
       "      <td>T203817</td>\n",
       "      <td>Super Kings Vs KKR</td>\n",
       "      <td>KKR</td>\n",
       "      <td>ShivamMavi</td>\n",
       "      <td>4.0</td>\n",
       "      <td>0</td>\n",
       "      <td>32</td>\n",
       "      <td>1</td>\n",
       "      <td>8.00</td>\n",
       "      <td>8</td>\n",
       "      <td>1</td>\n",
       "      <td>2</td>\n",
       "      <td>0</td>\n",
       "      <td>0</td>\n",
       "      <td>24</td>\n",
       "    </tr>\n",
       "    <tr>\n",
       "      <th>2</th>\n",
       "      <td>T203817</td>\n",
       "      <td>Super Kings Vs KKR</td>\n",
       "      <td>KKR</td>\n",
       "      <td>LockieFerguson</td>\n",
       "      <td>4.0</td>\n",
       "      <td>0</td>\n",
       "      <td>56</td>\n",
       "      <td>0</td>\n",
       "      <td>14.00</td>\n",
       "      <td>4</td>\n",
       "      <td>7</td>\n",
       "      <td>2</td>\n",
       "      <td>2</td>\n",
       "      <td>0</td>\n",
       "      <td>24</td>\n",
       "    </tr>\n",
       "    <tr>\n",
       "      <th>3</th>\n",
       "      <td>T203817</td>\n",
       "      <td>Super Kings Vs KKR</td>\n",
       "      <td>KKR</td>\n",
       "      <td>VarunChakravarthy</td>\n",
       "      <td>4.0</td>\n",
       "      <td>0</td>\n",
       "      <td>38</td>\n",
       "      <td>0</td>\n",
       "      <td>9.50</td>\n",
       "      <td>5</td>\n",
       "      <td>2</td>\n",
       "      <td>2</td>\n",
       "      <td>0</td>\n",
       "      <td>1</td>\n",
       "      <td>24</td>\n",
       "    </tr>\n",
       "    <tr>\n",
       "      <th>4</th>\n",
       "      <td>T203817</td>\n",
       "      <td>Super Kings Vs KKR</td>\n",
       "      <td>KKR</td>\n",
       "      <td>SunilNarine</td>\n",
       "      <td>4.0</td>\n",
       "      <td>0</td>\n",
       "      <td>26</td>\n",
       "      <td>2</td>\n",
       "      <td>6.50</td>\n",
       "      <td>6</td>\n",
       "      <td>0</td>\n",
       "      <td>1</td>\n",
       "      <td>1</td>\n",
       "      <td>0</td>\n",
       "      <td>24</td>\n",
       "    </tr>\n",
       "    <tr>\n",
       "      <th>...</th>\n",
       "      <td>...</td>\n",
       "      <td>...</td>\n",
       "      <td>...</td>\n",
       "      <td>...</td>\n",
       "      <td>...</td>\n",
       "      <td>...</td>\n",
       "      <td>...</td>\n",
       "      <td>...</td>\n",
       "      <td>...</td>\n",
       "      <td>...</td>\n",
       "      <td>...</td>\n",
       "      <td>...</td>\n",
       "      <td>...</td>\n",
       "      <td>...</td>\n",
       "      <td>...</td>\n",
       "    </tr>\n",
       "    <tr>\n",
       "      <th>2431</th>\n",
       "      <td>T201566</td>\n",
       "      <td>Super Kings Vs Titans</td>\n",
       "      <td>Super Kings</td>\n",
       "      <td>DeepakChahar</td>\n",
       "      <td>4.0</td>\n",
       "      <td>0</td>\n",
       "      <td>29</td>\n",
       "      <td>0</td>\n",
       "      <td>7.25</td>\n",
       "      <td>9</td>\n",
       "      <td>1</td>\n",
       "      <td>2</td>\n",
       "      <td>0</td>\n",
       "      <td>0</td>\n",
       "      <td>24</td>\n",
       "    </tr>\n",
       "    <tr>\n",
       "      <th>2432</th>\n",
       "      <td>T201566</td>\n",
       "      <td>Super Kings Vs Titans</td>\n",
       "      <td>Super Kings</td>\n",
       "      <td>TusharDeshpande</td>\n",
       "      <td>3.2</td>\n",
       "      <td>0</td>\n",
       "      <td>51</td>\n",
       "      <td>1</td>\n",
       "      <td>15.30</td>\n",
       "      <td>5</td>\n",
       "      <td>4</td>\n",
       "      <td>4</td>\n",
       "      <td>1</td>\n",
       "      <td>1</td>\n",
       "      <td>20</td>\n",
       "    </tr>\n",
       "    <tr>\n",
       "      <th>2433</th>\n",
       "      <td>T201566</td>\n",
       "      <td>Super Kings Vs Titans</td>\n",
       "      <td>Super Kings</td>\n",
       "      <td>RajvardhanHangargekar</td>\n",
       "      <td>4.0</td>\n",
       "      <td>0</td>\n",
       "      <td>36</td>\n",
       "      <td>3</td>\n",
       "      <td>9.00</td>\n",
       "      <td>10</td>\n",
       "      <td>4</td>\n",
       "      <td>1</td>\n",
       "      <td>3</td>\n",
       "      <td>1</td>\n",
       "      <td>24</td>\n",
       "    </tr>\n",
       "    <tr>\n",
       "      <th>2434</th>\n",
       "      <td>T201566</td>\n",
       "      <td>Super Kings Vs Titans</td>\n",
       "      <td>Super Kings</td>\n",
       "      <td>MitchellSantner</td>\n",
       "      <td>4.0</td>\n",
       "      <td>0</td>\n",
       "      <td>32</td>\n",
       "      <td>0</td>\n",
       "      <td>8.00</td>\n",
       "      <td>7</td>\n",
       "      <td>5</td>\n",
       "      <td>0</td>\n",
       "      <td>0</td>\n",
       "      <td>0</td>\n",
       "      <td>24</td>\n",
       "    </tr>\n",
       "    <tr>\n",
       "      <th>2435</th>\n",
       "      <td>T201566</td>\n",
       "      <td>Super Kings Vs Titans</td>\n",
       "      <td>Super Kings</td>\n",
       "      <td>RavindraJadeja</td>\n",
       "      <td>4.0</td>\n",
       "      <td>0</td>\n",
       "      <td>28</td>\n",
       "      <td>1</td>\n",
       "      <td>7.00</td>\n",
       "      <td>9</td>\n",
       "      <td>1</td>\n",
       "      <td>1</td>\n",
       "      <td>0</td>\n",
       "      <td>0</td>\n",
       "      <td>24</td>\n",
       "    </tr>\n",
       "  </tbody>\n",
       "</table>\n",
       "<p>2436 rows × 15 columns</p>\n",
       "</div>"
      ],
      "text/plain": [
       "     match_id                  match  bowlingTeam             bowlerName  \\\n",
       "0     T203817     Super Kings Vs KKR          KKR          ShakibAlHasan   \n",
       "1     T203817     Super Kings Vs KKR          KKR             ShivamMavi   \n",
       "2     T203817     Super Kings Vs KKR          KKR         LockieFerguson   \n",
       "3     T203817     Super Kings Vs KKR          KKR      VarunChakravarthy   \n",
       "4     T203817     Super Kings Vs KKR          KKR            SunilNarine   \n",
       "...       ...                    ...          ...                    ...   \n",
       "2431  T201566  Super Kings Vs Titans  Super Kings           DeepakChahar   \n",
       "2432  T201566  Super Kings Vs Titans  Super Kings        TusharDeshpande   \n",
       "2433  T201566  Super Kings Vs Titans  Super Kings  RajvardhanHangargekar   \n",
       "2434  T201566  Super Kings Vs Titans  Super Kings        MitchellSantner   \n",
       "2435  T201566  Super Kings Vs Titans  Super Kings         RavindraJadeja   \n",
       "\n",
       "      overs  maiden  runs  wickets  economy  0s  4s  6s  wides  noBalls  \\\n",
       "0       3.0       0    33        0    11.00   6   2   3      0        0   \n",
       "1       4.0       0    32        1     8.00   8   1   2      0        0   \n",
       "2       4.0       0    56        0    14.00   4   7   2      2        0   \n",
       "3       4.0       0    38        0     9.50   5   2   2      0        1   \n",
       "4       4.0       0    26        2     6.50   6   0   1      1        0   \n",
       "...     ...     ...   ...      ...      ...  ..  ..  ..    ...      ...   \n",
       "2431    4.0       0    29        0     7.25   9   1   2      0        0   \n",
       "2432    3.2       0    51        1    15.30   5   4   4      1        1   \n",
       "2433    4.0       0    36        3     9.00  10   4   1      3        1   \n",
       "2434    4.0       0    32        0     8.00   7   5   0      0        0   \n",
       "2435    4.0       0    28        1     7.00   9   1   1      0        0   \n",
       "\n",
       "      balls_bowled  \n",
       "0               18  \n",
       "1               24  \n",
       "2               24  \n",
       "3               24  \n",
       "4               24  \n",
       "...            ...  \n",
       "2431            24  \n",
       "2432            20  \n",
       "2433            24  \n",
       "2434            24  \n",
       "2435            24  \n",
       "\n",
       "[2436 rows x 15 columns]"
      ]
     },
     "execution_count": 10,
     "metadata": {},
     "output_type": "execute_result"
    }
   ],
   "source": [
    "bowling_summary"
   ]
  },
  {
   "cell_type": "code",
   "execution_count": 11,
   "id": "e817396b-d09a-4fe1-98cb-52c26f8a3126",
   "metadata": {},
   "outputs": [],
   "source": [
    "playerStat  = pd.DataFrame(players['name'])"
   ]
  },
  {
   "cell_type": "code",
   "execution_count": 12,
   "id": "16643d21-fe86-4c50-ba52-e262ce016904",
   "metadata": {},
   "outputs": [],
   "source": [
    "batting_stat =  batting_summary.groupby('batsmanName').agg({'runs':'sum','balls':'sum','4s':'sum','6s':'sum'}).reset_index()"
   ]
  },
  {
   "cell_type": "code",
   "execution_count": 13,
   "id": "05ae1ea8-a5da-451d-87ef-140e4a53e972",
   "metadata": {},
   "outputs": [
    {
     "data": {
      "text/html": [
       "<div>\n",
       "<style scoped>\n",
       "    .dataframe tbody tr th:only-of-type {\n",
       "        vertical-align: middle;\n",
       "    }\n",
       "\n",
       "    .dataframe tbody tr th {\n",
       "        vertical-align: top;\n",
       "    }\n",
       "\n",
       "    .dataframe thead th {\n",
       "        text-align: right;\n",
       "    }\n",
       "</style>\n",
       "<table border=\"1\" class=\"dataframe\">\n",
       "  <thead>\n",
       "    <tr style=\"text-align: right;\">\n",
       "      <th></th>\n",
       "      <th>name</th>\n",
       "      <th>runs</th>\n",
       "      <th>Balls_Faced</th>\n",
       "      <th>4s</th>\n",
       "      <th>6s</th>\n",
       "    </tr>\n",
       "  </thead>\n",
       "  <tbody>\n",
       "    <tr>\n",
       "      <th>0</th>\n",
       "      <td>RuturajGaikwad</td>\n",
       "      <td>1593.0</td>\n",
       "      <td>1157.0</td>\n",
       "      <td>143.0</td>\n",
       "      <td>67.0</td>\n",
       "    </tr>\n",
       "    <tr>\n",
       "      <th>1</th>\n",
       "      <td>FafduPlessis</td>\n",
       "      <td>1831.0</td>\n",
       "      <td>1300.0</td>\n",
       "      <td>169.0</td>\n",
       "      <td>72.0</td>\n",
       "    </tr>\n",
       "  </tbody>\n",
       "</table>\n",
       "</div>"
      ],
      "text/plain": [
       "             name    runs  Balls_Faced     4s    6s\n",
       "0  RuturajGaikwad  1593.0       1157.0  143.0  67.0\n",
       "1    FafduPlessis  1831.0       1300.0  169.0  72.0"
      ]
     },
     "execution_count": 13,
     "metadata": {},
     "output_type": "execute_result"
    }
   ],
   "source": [
    "#add Runs in playerStat for further Analysis\n",
    "playerStat['runs'] = playerStat['name'].map(batting_stat.set_index('batsmanName')['runs'])\n",
    "playerStat['Balls_Faced'] = playerStat['name'].map(batting_stat.set_index('batsmanName')['balls'])\n",
    "playerStat['4s'] = playerStat['name'].map(batting_stat.set_index('batsmanName')['4s'])\n",
    "playerStat['6s'] = playerStat['name'].map(batting_stat.set_index('batsmanName')['6s'])\n",
    "playerStat.head(2)"
   ]
  },
  {
   "cell_type": "code",
   "execution_count": 14,
   "id": "53595e47-1dcd-4ef0-b1e6-d67de7edd42c",
   "metadata": {},
   "outputs": [
    {
     "data": {
      "text/html": [
       "<div>\n",
       "<style scoped>\n",
       "    .dataframe tbody tr th:only-of-type {\n",
       "        vertical-align: middle;\n",
       "    }\n",
       "\n",
       "    .dataframe tbody tr th {\n",
       "        vertical-align: top;\n",
       "    }\n",
       "\n",
       "    .dataframe thead th {\n",
       "        text-align: right;\n",
       "    }\n",
       "</style>\n",
       "<table border=\"1\" class=\"dataframe\">\n",
       "  <thead>\n",
       "    <tr style=\"text-align: right;\">\n",
       "      <th></th>\n",
       "      <th>match_id</th>\n",
       "      <th>match</th>\n",
       "      <th>bowlingTeam</th>\n",
       "      <th>bowlerName</th>\n",
       "      <th>overs</th>\n",
       "      <th>maiden</th>\n",
       "      <th>runs</th>\n",
       "      <th>wickets</th>\n",
       "      <th>economy</th>\n",
       "      <th>0s</th>\n",
       "      <th>4s</th>\n",
       "      <th>6s</th>\n",
       "      <th>wides</th>\n",
       "      <th>noBalls</th>\n",
       "      <th>balls_bowled</th>\n",
       "    </tr>\n",
       "  </thead>\n",
       "  <tbody>\n",
       "    <tr>\n",
       "      <th>0</th>\n",
       "      <td>T203817</td>\n",
       "      <td>Super Kings Vs KKR</td>\n",
       "      <td>KKR</td>\n",
       "      <td>ShakibAlHasan</td>\n",
       "      <td>3.0</td>\n",
       "      <td>0</td>\n",
       "      <td>33</td>\n",
       "      <td>0</td>\n",
       "      <td>11.0</td>\n",
       "      <td>6</td>\n",
       "      <td>2</td>\n",
       "      <td>3</td>\n",
       "      <td>0</td>\n",
       "      <td>0</td>\n",
       "      <td>18</td>\n",
       "    </tr>\n",
       "    <tr>\n",
       "      <th>1</th>\n",
       "      <td>T203817</td>\n",
       "      <td>Super Kings Vs KKR</td>\n",
       "      <td>KKR</td>\n",
       "      <td>ShivamMavi</td>\n",
       "      <td>4.0</td>\n",
       "      <td>0</td>\n",
       "      <td>32</td>\n",
       "      <td>1</td>\n",
       "      <td>8.0</td>\n",
       "      <td>8</td>\n",
       "      <td>1</td>\n",
       "      <td>2</td>\n",
       "      <td>0</td>\n",
       "      <td>0</td>\n",
       "      <td>24</td>\n",
       "    </tr>\n",
       "  </tbody>\n",
       "</table>\n",
       "</div>"
      ],
      "text/plain": [
       "  match_id               match bowlingTeam     bowlerName  overs  maiden  \\\n",
       "0  T203817  Super Kings Vs KKR         KKR  ShakibAlHasan    3.0       0   \n",
       "1  T203817  Super Kings Vs KKR         KKR     ShivamMavi    4.0       0   \n",
       "\n",
       "   runs  wickets  economy  0s  4s  6s  wides  noBalls  balls_bowled  \n",
       "0    33        0     11.0   6   2   3      0        0            18  \n",
       "1    32        1      8.0   8   1   2      0        0            24  "
      ]
     },
     "execution_count": 14,
     "metadata": {},
     "output_type": "execute_result"
    }
   ],
   "source": [
    "bowling_summary.head(2)"
   ]
  },
  {
   "cell_type": "code",
   "execution_count": 15,
   "id": "87ff1902-a0be-4113-b2a1-426e841b4e1a",
   "metadata": {},
   "outputs": [],
   "source": [
    "bowling_stat =  bowling_summary.groupby('bowlerName').agg({'runs':'sum','balls_bowled':'sum','wickets':'sum','wides':'sum','noBalls':'sum','maiden':'sum','0s':'sum'}).reset_index()"
   ]
  },
  {
   "cell_type": "code",
   "execution_count": 16,
   "id": "c9891fbb-c9bb-4bad-8b70-2004c75a04c2",
   "metadata": {},
   "outputs": [
    {
     "data": {
      "text/html": [
       "<div>\n",
       "<style scoped>\n",
       "    .dataframe tbody tr th:only-of-type {\n",
       "        vertical-align: middle;\n",
       "    }\n",
       "\n",
       "    .dataframe tbody tr th {\n",
       "        vertical-align: top;\n",
       "    }\n",
       "\n",
       "    .dataframe thead th {\n",
       "        text-align: right;\n",
       "    }\n",
       "</style>\n",
       "<table border=\"1\" class=\"dataframe\">\n",
       "  <thead>\n",
       "    <tr style=\"text-align: right;\">\n",
       "      <th></th>\n",
       "      <th>name</th>\n",
       "      <th>runs</th>\n",
       "      <th>Balls_Faced</th>\n",
       "      <th>4s</th>\n",
       "      <th>6s</th>\n",
       "      <th>runs_given</th>\n",
       "      <th>balls_bowled</th>\n",
       "      <th>wickets</th>\n",
       "      <th>wides</th>\n",
       "      <th>maiden</th>\n",
       "      <th>dot_balls_bowled</th>\n",
       "    </tr>\n",
       "  </thead>\n",
       "  <tbody>\n",
       "    <tr>\n",
       "      <th>0</th>\n",
       "      <td>RuturajGaikwad</td>\n",
       "      <td>1593.0</td>\n",
       "      <td>1157.0</td>\n",
       "      <td>143.0</td>\n",
       "      <td>67.0</td>\n",
       "      <td>0.0</td>\n",
       "      <td>0.0</td>\n",
       "      <td>0.0</td>\n",
       "      <td>0.0</td>\n",
       "      <td>0.0</td>\n",
       "      <td>0.0</td>\n",
       "    </tr>\n",
       "    <tr>\n",
       "      <th>1</th>\n",
       "      <td>FafduPlessis</td>\n",
       "      <td>1831.0</td>\n",
       "      <td>1300.0</td>\n",
       "      <td>169.0</td>\n",
       "      <td>72.0</td>\n",
       "      <td>0.0</td>\n",
       "      <td>0.0</td>\n",
       "      <td>0.0</td>\n",
       "      <td>0.0</td>\n",
       "      <td>0.0</td>\n",
       "      <td>0.0</td>\n",
       "    </tr>\n",
       "  </tbody>\n",
       "</table>\n",
       "</div>"
      ],
      "text/plain": [
       "             name    runs  Balls_Faced     4s    6s  runs_given  balls_bowled  \\\n",
       "0  RuturajGaikwad  1593.0       1157.0  143.0  67.0         0.0           0.0   \n",
       "1    FafduPlessis  1831.0       1300.0  169.0  72.0         0.0           0.0   \n",
       "\n",
       "   wickets  wides  maiden  dot_balls_bowled  \n",
       "0      0.0    0.0     0.0               0.0  \n",
       "1      0.0    0.0     0.0               0.0  "
      ]
     },
     "execution_count": 16,
     "metadata": {},
     "output_type": "execute_result"
    }
   ],
   "source": [
    "#add Runs in playerStat for further Analysis\n",
    "playerStat['runs_given'] = playerStat['name'].map(bowling_stat.set_index('bowlerName')['runs'])\n",
    "playerStat['balls_bowled'] = playerStat['name'].map(bowling_stat.set_index('bowlerName')['balls_bowled'])\n",
    "playerStat['wickets'] = playerStat['name'].map(bowling_stat.set_index('bowlerName')['wickets'])\n",
    "playerStat['wides'] = playerStat['name'].map(bowling_stat.set_index('bowlerName')['wides'])\n",
    "playerStat['maiden'] = playerStat['name'].map(bowling_stat.set_index('bowlerName')['maiden'])\n",
    "playerStat['dot_balls_bowled'] = playerStat['name'].map(bowling_stat.set_index('bowlerName')['0s'])\n",
    "#giving 0 as default where it is NaN\n",
    "playerStat['runs_given'] = playerStat['runs_given'].fillna(0)\n",
    "playerStat['balls_bowled'] = playerStat['balls_bowled'].fillna(0)\n",
    "playerStat['wickets'] = playerStat['wickets'].fillna(0)\n",
    "playerStat['wides'] = playerStat['wides'].fillna(0)\n",
    "playerStat['maiden'] = playerStat['maiden'].fillna(0)\n",
    "playerStat['dot_balls_bowled'] = playerStat['dot_balls_bowled'].fillna(0)\n",
    "playerStat.head(2)"
   ]
  },
  {
   "cell_type": "markdown",
   "id": "18cd8d50-13c2-4982-a616-ff4a4b0a4765",
   "metadata": {},
   "source": [
    "#### Calculating Batters Played at least 60 balls in Each Season"
   ]
  },
  {
   "cell_type": "code",
   "execution_count": 17,
   "id": "c7a38f68-27bc-46b7-ad02-d2f00e2febb6",
   "metadata": {},
   "outputs": [],
   "source": [
    "batting_and_matches = pd.merge(left=batting_summary, right=match_summary, how='inner')"
   ]
  },
  {
   "cell_type": "code",
   "execution_count": 18,
   "id": "1a11f1f3-1c94-43f1-9300-dbc1e97b3632",
   "metadata": {},
   "outputs": [
    {
     "data": {
      "text/plain": [
       "Index(['match_id', 'match', 'teamInnings', 'battingPos', 'batsmanName',\n",
       "       'out/not_out', 'runs', 'balls', '4s', '6s', 'SR', 'team1', 'team2',\n",
       "       'winner', 'margin', 'matchDate', 'year'],\n",
       "      dtype='object')"
      ]
     },
     "execution_count": 18,
     "metadata": {},
     "output_type": "execute_result"
    }
   ],
   "source": [
    "batting_and_matches.columns"
   ]
  },
  {
   "cell_type": "code",
   "execution_count": 19,
   "id": "13cd4ef7-8231-493b-91dd-799ccd966917",
   "metadata": {},
   "outputs": [],
   "source": [
    "#batting_stat.groupby(['batsmanName','year'])['balls'].sum()"
   ]
  },
  {
   "cell_type": "code",
   "execution_count": 20,
   "id": "25f25401-928c-42ba-9166-44ae2ade6357",
   "metadata": {},
   "outputs": [
    {
     "data": {
      "text/html": [
       "<div>\n",
       "<style scoped>\n",
       "    .dataframe tbody tr th:only-of-type {\n",
       "        vertical-align: middle;\n",
       "    }\n",
       "\n",
       "    .dataframe tbody tr th {\n",
       "        vertical-align: top;\n",
       "    }\n",
       "\n",
       "    .dataframe thead th {\n",
       "        text-align: right;\n",
       "    }\n",
       "</style>\n",
       "<table border=\"1\" class=\"dataframe\">\n",
       "  <thead>\n",
       "    <tr style=\"text-align: right;\">\n",
       "      <th>year</th>\n",
       "      <th>batsmanName</th>\n",
       "      <th>2021</th>\n",
       "      <th>2022</th>\n",
       "      <th>2023</th>\n",
       "      <th>Total</th>\n",
       "    </tr>\n",
       "    <tr>\n",
       "      <th>SRNO</th>\n",
       "      <th></th>\n",
       "      <th></th>\n",
       "      <th></th>\n",
       "      <th></th>\n",
       "      <th></th>\n",
       "    </tr>\n",
       "  </thead>\n",
       "  <tbody>\n",
       "    <tr>\n",
       "      <th>0</th>\n",
       "      <td>ABdeVilliers</td>\n",
       "      <td>211</td>\n",
       "      <td>0</td>\n",
       "      <td>0</td>\n",
       "      <td>211</td>\n",
       "    </tr>\n",
       "    <tr>\n",
       "      <th>1</th>\n",
       "      <td>AaronFinch</td>\n",
       "      <td>0</td>\n",
       "      <td>61</td>\n",
       "      <td>0</td>\n",
       "      <td>61</td>\n",
       "    </tr>\n",
       "  </tbody>\n",
       "</table>\n",
       "</div>"
      ],
      "text/plain": [
       "year   batsmanName  2021  2022  2023  Total\n",
       "SRNO                                       \n",
       "0     ABdeVilliers   211     0     0    211\n",
       "1       AaronFinch     0    61     0     61"
      ]
     },
     "execution_count": 20,
     "metadata": {},
     "output_type": "execute_result"
    }
   ],
   "source": [
    "# Pivot table\n",
    "balls_faced_by_batter = batting_and_matches.pivot_table(index='batsmanName', columns='year', values='balls', aggfunc='sum', fill_value=0)\n",
    "# Adding total column\n",
    "balls_faced_by_batter['Total'] = balls_faced_by_batter.sum(axis=1)\n",
    "balls_faced_by_batter = balls_faced_by_batter.reset_index()\n",
    "balls_faced_by_batter.index.names=['SRNO']\n",
    "balls_faced_by_batter.head(2)\n"
   ]
  },
  {
   "cell_type": "code",
   "execution_count": 21,
   "id": "de72d4c6-b414-4881-adc0-4473c421e614",
   "metadata": {},
   "outputs": [
    {
     "data": {
      "text/html": [
       "<div>\n",
       "<style scoped>\n",
       "    .dataframe tbody tr th:only-of-type {\n",
       "        vertical-align: middle;\n",
       "    }\n",
       "\n",
       "    .dataframe tbody tr th {\n",
       "        vertical-align: top;\n",
       "    }\n",
       "\n",
       "    .dataframe thead th {\n",
       "        text-align: right;\n",
       "    }\n",
       "</style>\n",
       "<table border=\"1\" class=\"dataframe\">\n",
       "  <thead>\n",
       "    <tr style=\"text-align: right;\">\n",
       "      <th>year</th>\n",
       "      <th>SRNO</th>\n",
       "      <th>batsmanName</th>\n",
       "      <th>2021</th>\n",
       "      <th>2022</th>\n",
       "      <th>2023</th>\n",
       "      <th>Total</th>\n",
       "    </tr>\n",
       "  </thead>\n",
       "  <tbody>\n",
       "    <tr>\n",
       "      <th>0</th>\n",
       "      <td>6</td>\n",
       "      <td>AbhishekSharma</td>\n",
       "      <td>69</td>\n",
       "      <td>320</td>\n",
       "      <td>157</td>\n",
       "      <td>546</td>\n",
       "    </tr>\n",
       "    <tr>\n",
       "      <th>1</th>\n",
       "      <td>11</td>\n",
       "      <td>AidenMarkram</td>\n",
       "      <td>119</td>\n",
       "      <td>274</td>\n",
       "      <td>197</td>\n",
       "      <td>590</td>\n",
       "    </tr>\n",
       "  </tbody>\n",
       "</table>\n",
       "</div>"
      ],
      "text/plain": [
       "year  SRNO     batsmanName  2021  2022  2023  Total\n",
       "0        6  AbhishekSharma    69   320   157    546\n",
       "1       11    AidenMarkram   119   274   197    590"
      ]
     },
     "execution_count": 21,
     "metadata": {},
     "output_type": "execute_result"
    }
   ],
   "source": [
    "#each Season 60 balls faced by batter\n",
    "eachSeasonBatter =  balls_faced_by_batter[(balls_faced_by_batter['2021'] >= 60) & (balls_faced_by_batter['2022'] >= 60) & (balls_faced_by_batter['2023'] >= 60)].reset_index()\n",
    "#update values after mapping\n",
    "playerStat['eachSeasonBatter'] = playerStat['name'].isin(eachSeasonBatter['batsmanName']).apply(lambda x: 'Yes' if x else 'No')\n",
    "#playerStat.value_counts('eachSeasonBatter')\n",
    "eachSeasonBatter.head(2)"
   ]
  },
  {
   "cell_type": "code",
   "execution_count": 22,
   "id": "22475a7d-d5e4-41fb-ab76-aa68f5c13a41",
   "metadata": {},
   "outputs": [],
   "source": [
    "#batting_summary.head()"
   ]
  },
  {
   "cell_type": "markdown",
   "id": "725295e5-d136-4fc8-b14a-1c6efb0521d0",
   "metadata": {},
   "source": [
    "#### Calculating Bowlers Who balled at least 60 balls in Each Season"
   ]
  },
  {
   "cell_type": "code",
   "execution_count": 23,
   "id": "1eeb2f9b-422d-4d4f-9f90-c122f9d31fa4",
   "metadata": {},
   "outputs": [],
   "source": [
    "bowling_and_matches = pd.merge(left=bowling_summary, right=match_summary, how='inner')"
   ]
  },
  {
   "cell_type": "code",
   "execution_count": 24,
   "id": "c3b41711-8525-4018-9dea-d74aaed82476",
   "metadata": {},
   "outputs": [
    {
     "data": {
      "text/html": [
       "<div>\n",
       "<style scoped>\n",
       "    .dataframe tbody tr th:only-of-type {\n",
       "        vertical-align: middle;\n",
       "    }\n",
       "\n",
       "    .dataframe tbody tr th {\n",
       "        vertical-align: top;\n",
       "    }\n",
       "\n",
       "    .dataframe thead th {\n",
       "        text-align: right;\n",
       "    }\n",
       "</style>\n",
       "<table border=\"1\" class=\"dataframe\">\n",
       "  <thead>\n",
       "    <tr style=\"text-align: right;\">\n",
       "      <th></th>\n",
       "      <th>match_id</th>\n",
       "      <th>match</th>\n",
       "      <th>bowlingTeam</th>\n",
       "      <th>bowlerName</th>\n",
       "      <th>overs</th>\n",
       "      <th>maiden</th>\n",
       "      <th>runs</th>\n",
       "      <th>wickets</th>\n",
       "      <th>economy</th>\n",
       "      <th>0s</th>\n",
       "      <th>...</th>\n",
       "      <th>6s</th>\n",
       "      <th>wides</th>\n",
       "      <th>noBalls</th>\n",
       "      <th>balls_bowled</th>\n",
       "      <th>team1</th>\n",
       "      <th>team2</th>\n",
       "      <th>winner</th>\n",
       "      <th>margin</th>\n",
       "      <th>matchDate</th>\n",
       "      <th>year</th>\n",
       "    </tr>\n",
       "  </thead>\n",
       "  <tbody>\n",
       "    <tr>\n",
       "      <th>0</th>\n",
       "      <td>T203817</td>\n",
       "      <td>Super Kings Vs KKR</td>\n",
       "      <td>KKR</td>\n",
       "      <td>ShakibAlHasan</td>\n",
       "      <td>3.0</td>\n",
       "      <td>0</td>\n",
       "      <td>33</td>\n",
       "      <td>0</td>\n",
       "      <td>11.0</td>\n",
       "      <td>6</td>\n",
       "      <td>...</td>\n",
       "      <td>3</td>\n",
       "      <td>0</td>\n",
       "      <td>0</td>\n",
       "      <td>18</td>\n",
       "      <td>Super Kings</td>\n",
       "      <td>KKR</td>\n",
       "      <td>Super Kings</td>\n",
       "      <td>27 runs</td>\n",
       "      <td>Oct 15, 2021</td>\n",
       "      <td>2021</td>\n",
       "    </tr>\n",
       "    <tr>\n",
       "      <th>1</th>\n",
       "      <td>T203817</td>\n",
       "      <td>Super Kings Vs KKR</td>\n",
       "      <td>KKR</td>\n",
       "      <td>ShivamMavi</td>\n",
       "      <td>4.0</td>\n",
       "      <td>0</td>\n",
       "      <td>32</td>\n",
       "      <td>1</td>\n",
       "      <td>8.0</td>\n",
       "      <td>8</td>\n",
       "      <td>...</td>\n",
       "      <td>2</td>\n",
       "      <td>0</td>\n",
       "      <td>0</td>\n",
       "      <td>24</td>\n",
       "      <td>Super Kings</td>\n",
       "      <td>KKR</td>\n",
       "      <td>Super Kings</td>\n",
       "      <td>27 runs</td>\n",
       "      <td>Oct 15, 2021</td>\n",
       "      <td>2021</td>\n",
       "    </tr>\n",
       "  </tbody>\n",
       "</table>\n",
       "<p>2 rows × 21 columns</p>\n",
       "</div>"
      ],
      "text/plain": [
       "  match_id               match bowlingTeam     bowlerName  overs  maiden  \\\n",
       "0  T203817  Super Kings Vs KKR         KKR  ShakibAlHasan    3.0       0   \n",
       "1  T203817  Super Kings Vs KKR         KKR     ShivamMavi    4.0       0   \n",
       "\n",
       "   runs  wickets  economy  0s  ...  6s  wides  noBalls  balls_bowled  \\\n",
       "0    33        0     11.0   6  ...   3      0        0            18   \n",
       "1    32        1      8.0   8  ...   2      0        0            24   \n",
       "\n",
       "         team1 team2       winner   margin     matchDate  year  \n",
       "0  Super Kings   KKR  Super Kings  27 runs  Oct 15, 2021  2021  \n",
       "1  Super Kings   KKR  Super Kings  27 runs  Oct 15, 2021  2021  \n",
       "\n",
       "[2 rows x 21 columns]"
      ]
     },
     "execution_count": 24,
     "metadata": {},
     "output_type": "execute_result"
    }
   ],
   "source": [
    "bowling_and_matches.head(2)"
   ]
  },
  {
   "cell_type": "code",
   "execution_count": 25,
   "id": "73e2dbf3-8498-4ac5-9c39-c492975f8169",
   "metadata": {},
   "outputs": [
    {
     "data": {
      "text/plain": [
       "Index(['match_id', 'match', 'bowlingTeam', 'bowlerName', 'overs', 'maiden',\n",
       "       'runs', 'wickets', 'economy', '0s', '4s', '6s', 'wides', 'noBalls',\n",
       "       'balls_bowled', 'team1', 'team2', 'winner', 'margin', 'matchDate',\n",
       "       'year'],\n",
       "      dtype='object')"
      ]
     },
     "execution_count": 25,
     "metadata": {},
     "output_type": "execute_result"
    }
   ],
   "source": [
    "#bowling_and_matches\n",
    "bowling_and_matches.columns"
   ]
  },
  {
   "cell_type": "code",
   "execution_count": 26,
   "id": "0d8fb737-7368-49b1-ba2e-19366f6f5994",
   "metadata": {},
   "outputs": [
    {
     "data": {
      "text/html": [
       "<div>\n",
       "<style scoped>\n",
       "    .dataframe tbody tr th:only-of-type {\n",
       "        vertical-align: middle;\n",
       "    }\n",
       "\n",
       "    .dataframe tbody tr th {\n",
       "        vertical-align: top;\n",
       "    }\n",
       "\n",
       "    .dataframe thead th {\n",
       "        text-align: right;\n",
       "    }\n",
       "</style>\n",
       "<table border=\"1\" class=\"dataframe\">\n",
       "  <thead>\n",
       "    <tr style=\"text-align: right;\">\n",
       "      <th>year</th>\n",
       "      <th>bowlerName</th>\n",
       "      <th>2021</th>\n",
       "      <th>2022</th>\n",
       "      <th>2023</th>\n",
       "      <th>Total</th>\n",
       "    </tr>\n",
       "    <tr>\n",
       "      <th>SRNO</th>\n",
       "      <th></th>\n",
       "      <th></th>\n",
       "      <th></th>\n",
       "      <th></th>\n",
       "      <th></th>\n",
       "    </tr>\n",
       "  </thead>\n",
       "  <tbody>\n",
       "    <tr>\n",
       "      <th>0</th>\n",
       "      <td>AbdulSamad</td>\n",
       "      <td>6</td>\n",
       "      <td>6</td>\n",
       "      <td>0</td>\n",
       "      <td>12</td>\n",
       "    </tr>\n",
       "    <tr>\n",
       "      <th>1</th>\n",
       "      <td>AbhishekSharma</td>\n",
       "      <td>54</td>\n",
       "      <td>24</td>\n",
       "      <td>72</td>\n",
       "      <td>150</td>\n",
       "    </tr>\n",
       "  </tbody>\n",
       "</table>\n",
       "</div>"
      ],
      "text/plain": [
       "year      bowlerName  2021  2022  2023  Total\n",
       "SRNO                                         \n",
       "0         AbdulSamad     6     6     0     12\n",
       "1     AbhishekSharma    54    24    72    150"
      ]
     },
     "execution_count": 26,
     "metadata": {},
     "output_type": "execute_result"
    }
   ],
   "source": [
    "balls_bowled_by_bowler = bowling_and_matches.pivot_table(index='bowlerName', columns='year', values='balls_bowled', aggfunc='sum', fill_value=0)\n",
    "# Adding total column\n",
    "balls_bowled_by_bowler['Total'] = balls_bowled_by_bowler.sum(axis=1)\n",
    "balls_bowled_by_bowler = balls_bowled_by_bowler.reset_index()\n",
    "balls_bowled_by_bowler.index.names=['SRNO']\n",
    "balls_bowled_by_bowler.head(2)"
   ]
  },
  {
   "cell_type": "code",
   "execution_count": 27,
   "id": "5b8306d5-bc3d-4bd5-bb55-001db6e06c31",
   "metadata": {},
   "outputs": [
    {
     "data": {
      "text/html": [
       "<div>\n",
       "<style scoped>\n",
       "    .dataframe tbody tr th:only-of-type {\n",
       "        vertical-align: middle;\n",
       "    }\n",
       "\n",
       "    .dataframe tbody tr th {\n",
       "        vertical-align: top;\n",
       "    }\n",
       "\n",
       "    .dataframe thead th {\n",
       "        text-align: right;\n",
       "    }\n",
       "</style>\n",
       "<table border=\"1\" class=\"dataframe\">\n",
       "  <thead>\n",
       "    <tr style=\"text-align: right;\">\n",
       "      <th>year</th>\n",
       "      <th>SRNO</th>\n",
       "      <th>bowlerName</th>\n",
       "      <th>2021</th>\n",
       "      <th>2022</th>\n",
       "      <th>2023</th>\n",
       "      <th>Total</th>\n",
       "    </tr>\n",
       "  </thead>\n",
       "  <tbody>\n",
       "    <tr>\n",
       "      <th>0</th>\n",
       "      <td>13</td>\n",
       "      <td>AndreRussell</td>\n",
       "      <td>114</td>\n",
       "      <td>168</td>\n",
       "      <td>91</td>\n",
       "      <td>373</td>\n",
       "    </tr>\n",
       "    <tr>\n",
       "      <th>1</th>\n",
       "      <td>15</td>\n",
       "      <td>AnrichNortje</td>\n",
       "      <td>182</td>\n",
       "      <td>134</td>\n",
       "      <td>240</td>\n",
       "      <td>556</td>\n",
       "    </tr>\n",
       "  </tbody>\n",
       "</table>\n",
       "</div>"
      ],
      "text/plain": [
       "year  SRNO    bowlerName  2021  2022  2023  Total\n",
       "0       13  AndreRussell   114   168    91    373\n",
       "1       15  AnrichNortje   182   134   240    556"
      ]
     },
     "execution_count": 27,
     "metadata": {},
     "output_type": "execute_result"
    }
   ],
   "source": [
    "#each Season 60 balls bowled by Bowler\n",
    "eachSeasonBowler =  balls_bowled_by_bowler[(balls_bowled_by_bowler['2021'] >= 60) & (balls_bowled_by_bowler['2022'] >= 60) & (balls_bowled_by_bowler['2023'] >= 60)].reset_index()\n",
    "#update values after mapping\n",
    "playerStat['eachSeasonBowler'] = playerStat['name'].isin(eachSeasonBowler['bowlerName']).apply(lambda x: 'Yes' if x else 'No')\n",
    "#playerStat.value_counts('eachSeasonBatter')\n",
    "eachSeasonBowler.head(2)"
   ]
  },
  {
   "cell_type": "code",
   "execution_count": 28,
   "id": "b94e9ac6-e06e-4dba-9073-31edf9503fec",
   "metadata": {},
   "outputs": [
    {
     "data": {
      "text/html": [
       "<div>\n",
       "<style scoped>\n",
       "    .dataframe tbody tr th:only-of-type {\n",
       "        vertical-align: middle;\n",
       "    }\n",
       "\n",
       "    .dataframe tbody tr th {\n",
       "        vertical-align: top;\n",
       "    }\n",
       "\n",
       "    .dataframe thead th {\n",
       "        text-align: right;\n",
       "    }\n",
       "</style>\n",
       "<table border=\"1\" class=\"dataframe\">\n",
       "  <thead>\n",
       "    <tr style=\"text-align: right;\">\n",
       "      <th></th>\n",
       "      <th>name</th>\n",
       "      <th>runs</th>\n",
       "      <th>Balls_Faced</th>\n",
       "      <th>4s</th>\n",
       "      <th>6s</th>\n",
       "      <th>runs_given</th>\n",
       "      <th>balls_bowled</th>\n",
       "      <th>wickets</th>\n",
       "      <th>wides</th>\n",
       "      <th>maiden</th>\n",
       "      <th>dot_balls_bowled</th>\n",
       "      <th>eachSeasonBatter</th>\n",
       "      <th>eachSeasonBowler</th>\n",
       "    </tr>\n",
       "  </thead>\n",
       "  <tbody>\n",
       "    <tr>\n",
       "      <th>290</th>\n",
       "      <td>RajvardhanHangargekar</td>\n",
       "      <td>NaN</td>\n",
       "      <td>NaN</td>\n",
       "      <td>NaN</td>\n",
       "      <td>NaN</td>\n",
       "      <td>60.0</td>\n",
       "      <td>36.0</td>\n",
       "      <td>3.0</td>\n",
       "      <td>6.0</td>\n",
       "      <td>0.0</td>\n",
       "      <td>14.0</td>\n",
       "      <td>No</td>\n",
       "      <td>No</td>\n",
       "    </tr>\n",
       "    <tr>\n",
       "      <th>291</th>\n",
       "      <td>ReeceTopley</td>\n",
       "      <td>NaN</td>\n",
       "      <td>NaN</td>\n",
       "      <td>NaN</td>\n",
       "      <td>NaN</td>\n",
       "      <td>14.0</td>\n",
       "      <td>12.0</td>\n",
       "      <td>1.0</td>\n",
       "      <td>0.0</td>\n",
       "      <td>0.0</td>\n",
       "      <td>7.0</td>\n",
       "      <td>No</td>\n",
       "      <td>No</td>\n",
       "    </tr>\n",
       "  </tbody>\n",
       "</table>\n",
       "</div>"
      ],
      "text/plain": [
       "                      name  runs  Balls_Faced  4s  6s  runs_given  \\\n",
       "290  RajvardhanHangargekar   NaN          NaN NaN NaN        60.0   \n",
       "291            ReeceTopley   NaN          NaN NaN NaN        14.0   \n",
       "\n",
       "     balls_bowled  wickets  wides  maiden  dot_balls_bowled eachSeasonBatter  \\\n",
       "290          36.0      3.0    6.0     0.0              14.0               No   \n",
       "291          12.0      1.0    0.0     0.0               7.0               No   \n",
       "\n",
       "    eachSeasonBowler  \n",
       "290               No  \n",
       "291               No  "
      ]
     },
     "execution_count": 28,
     "metadata": {},
     "output_type": "execute_result"
    }
   ],
   "source": [
    "playerStat.tail(2)"
   ]
  },
  {
   "cell_type": "markdown",
   "id": "9221580c-2d11-4108-afa1-b68caca0227e",
   "metadata": {},
   "source": [
    "#### Batsman Out/Not Out Count required for average"
   ]
  },
  {
   "cell_type": "code",
   "execution_count": 29,
   "id": "ba5bfa12-5c5c-442d-b25d-4efab01e1722",
   "metadata": {},
   "outputs": [],
   "source": [
    "batsman_not_out = batting_summary[batting_summary['out/not_out']=='not_out'].groupby('batsmanName')['out/not_out'].count().reset_index()\n",
    "batsman_out = batting_summary[batting_summary['out/not_out']=='out'].groupby('batsmanName')['out/not_out'].count().reset_index()\n",
    "batsman_total_match = batting_summary.groupby('batsmanName')['out/not_out'].count().reset_index()\n"
   ]
  },
  {
   "cell_type": "code",
   "execution_count": 30,
   "id": "d6f516c7-2cca-46ce-a480-b3a8df22529b",
   "metadata": {},
   "outputs": [
    {
     "data": {
      "text/html": [
       "<div>\n",
       "<style scoped>\n",
       "    .dataframe tbody tr th:only-of-type {\n",
       "        vertical-align: middle;\n",
       "    }\n",
       "\n",
       "    .dataframe tbody tr th {\n",
       "        vertical-align: top;\n",
       "    }\n",
       "\n",
       "    .dataframe thead th {\n",
       "        text-align: right;\n",
       "    }\n",
       "</style>\n",
       "<table border=\"1\" class=\"dataframe\">\n",
       "  <thead>\n",
       "    <tr style=\"text-align: right;\">\n",
       "      <th></th>\n",
       "      <th>name</th>\n",
       "      <th>runs</th>\n",
       "      <th>Balls_Faced</th>\n",
       "      <th>4s</th>\n",
       "      <th>6s</th>\n",
       "      <th>runs_given</th>\n",
       "      <th>balls_bowled</th>\n",
       "      <th>wickets</th>\n",
       "      <th>wides</th>\n",
       "      <th>maiden</th>\n",
       "      <th>dot_balls_bowled</th>\n",
       "      <th>eachSeasonBatter</th>\n",
       "      <th>eachSeasonBowler</th>\n",
       "      <th>not_out</th>\n",
       "      <th>out</th>\n",
       "      <th>Matches_Batted</th>\n",
       "    </tr>\n",
       "  </thead>\n",
       "  <tbody>\n",
       "    <tr>\n",
       "      <th>0</th>\n",
       "      <td>RuturajGaikwad</td>\n",
       "      <td>1593.0</td>\n",
       "      <td>1157.0</td>\n",
       "      <td>143.0</td>\n",
       "      <td>67.0</td>\n",
       "      <td>0.0</td>\n",
       "      <td>0.0</td>\n",
       "      <td>0.0</td>\n",
       "      <td>0.0</td>\n",
       "      <td>0.0</td>\n",
       "      <td>0.0</td>\n",
       "      <td>Yes</td>\n",
       "      <td>No</td>\n",
       "      <td>3.0</td>\n",
       "      <td>42.0</td>\n",
       "      <td>45.0</td>\n",
       "    </tr>\n",
       "    <tr>\n",
       "      <th>1</th>\n",
       "      <td>FafduPlessis</td>\n",
       "      <td>1831.0</td>\n",
       "      <td>1300.0</td>\n",
       "      <td>169.0</td>\n",
       "      <td>72.0</td>\n",
       "      <td>0.0</td>\n",
       "      <td>0.0</td>\n",
       "      <td>0.0</td>\n",
       "      <td>0.0</td>\n",
       "      <td>0.0</td>\n",
       "      <td>0.0</td>\n",
       "      <td>Yes</td>\n",
       "      <td>No</td>\n",
       "      <td>4.0</td>\n",
       "      <td>42.0</td>\n",
       "      <td>46.0</td>\n",
       "    </tr>\n",
       "  </tbody>\n",
       "</table>\n",
       "</div>"
      ],
      "text/plain": [
       "             name    runs  Balls_Faced     4s    6s  runs_given  balls_bowled  \\\n",
       "0  RuturajGaikwad  1593.0       1157.0  143.0  67.0         0.0           0.0   \n",
       "1    FafduPlessis  1831.0       1300.0  169.0  72.0         0.0           0.0   \n",
       "\n",
       "   wickets  wides  maiden  dot_balls_bowled eachSeasonBatter eachSeasonBowler  \\\n",
       "0      0.0    0.0     0.0               0.0              Yes               No   \n",
       "1      0.0    0.0     0.0               0.0              Yes               No   \n",
       "\n",
       "   not_out   out  Matches_Batted  \n",
       "0      3.0  42.0            45.0  \n",
       "1      4.0  42.0            46.0  "
      ]
     },
     "execution_count": 30,
     "metadata": {},
     "output_type": "execute_result"
    }
   ],
   "source": [
    "playerStat['not_out'] = playerStat['name'].map(batsman_not_out.set_index('batsmanName')['out/not_out'])\n",
    "playerStat['out'] = playerStat['name'].map(batsman_out.set_index('batsmanName')['out/not_out'])\n",
    "playerStat['Matches_Batted'] = playerStat['name'].map(batsman_total_match.set_index('batsmanName')['out/not_out'])\n",
    "playerStat.head(2)"
   ]
  },
  {
   "cell_type": "code",
   "execution_count": 31,
   "id": "228474cf-6dbe-4278-8d2e-803f76762275",
   "metadata": {},
   "outputs": [],
   "source": [
    "playerStat['not_out'] = playerStat['not_out'].fillna(0)\n",
    "playerStat['out'] = playerStat['out'].fillna(0)\n",
    "playerStat['Matches_Batted'] = playerStat['Matches_Batted'].fillna(0)"
   ]
  },
  {
   "cell_type": "markdown",
   "id": "3eeb7121-07d1-4fc9-8afb-13dedfa38b16",
   "metadata": {},
   "source": [
    "#### Calculate Batting Average"
   ]
  },
  {
   "cell_type": "code",
   "execution_count": 32,
   "id": "24e7aa5f-3439-4e59-b39e-6514d59d4305",
   "metadata": {},
   "outputs": [],
   "source": [
    "playerStat['avgBattingRuns'] = np.round(playerStat['runs']/playerStat['out'],2)\n",
    "#cleaning NaN values\n",
    "playerStat.loc[playerStat['out'] == 0, 'avgBattingRuns'] = playerStat['runs']"
   ]
  },
  {
   "cell_type": "code",
   "execution_count": 33,
   "id": "2b479105-0355-4c94-b4b4-e122efff6f76",
   "metadata": {},
   "outputs": [
    {
     "data": {
      "text/html": [
       "<div>\n",
       "<style scoped>\n",
       "    .dataframe tbody tr th:only-of-type {\n",
       "        vertical-align: middle;\n",
       "    }\n",
       "\n",
       "    .dataframe tbody tr th {\n",
       "        vertical-align: top;\n",
       "    }\n",
       "\n",
       "    .dataframe thead th {\n",
       "        text-align: right;\n",
       "    }\n",
       "</style>\n",
       "<table border=\"1\" class=\"dataframe\">\n",
       "  <thead>\n",
       "    <tr style=\"text-align: right;\">\n",
       "      <th></th>\n",
       "      <th>name</th>\n",
       "      <th>runs</th>\n",
       "      <th>Balls_Faced</th>\n",
       "      <th>4s</th>\n",
       "      <th>6s</th>\n",
       "      <th>runs_given</th>\n",
       "      <th>balls_bowled</th>\n",
       "      <th>wickets</th>\n",
       "      <th>wides</th>\n",
       "      <th>maiden</th>\n",
       "      <th>dot_balls_bowled</th>\n",
       "      <th>eachSeasonBatter</th>\n",
       "      <th>eachSeasonBowler</th>\n",
       "      <th>not_out</th>\n",
       "      <th>out</th>\n",
       "      <th>Matches_Batted</th>\n",
       "      <th>avgBattingRuns</th>\n",
       "    </tr>\n",
       "  </thead>\n",
       "  <tbody>\n",
       "    <tr>\n",
       "      <th>0</th>\n",
       "      <td>RuturajGaikwad</td>\n",
       "      <td>1593.0</td>\n",
       "      <td>1157.0</td>\n",
       "      <td>143.0</td>\n",
       "      <td>67.0</td>\n",
       "      <td>0.0</td>\n",
       "      <td>0.0</td>\n",
       "      <td>0.0</td>\n",
       "      <td>0.0</td>\n",
       "      <td>0.0</td>\n",
       "      <td>0.0</td>\n",
       "      <td>Yes</td>\n",
       "      <td>No</td>\n",
       "      <td>3.0</td>\n",
       "      <td>42.0</td>\n",
       "      <td>45.0</td>\n",
       "      <td>37.93</td>\n",
       "    </tr>\n",
       "    <tr>\n",
       "      <th>1</th>\n",
       "      <td>FafduPlessis</td>\n",
       "      <td>1831.0</td>\n",
       "      <td>1300.0</td>\n",
       "      <td>169.0</td>\n",
       "      <td>72.0</td>\n",
       "      <td>0.0</td>\n",
       "      <td>0.0</td>\n",
       "      <td>0.0</td>\n",
       "      <td>0.0</td>\n",
       "      <td>0.0</td>\n",
       "      <td>0.0</td>\n",
       "      <td>Yes</td>\n",
       "      <td>No</td>\n",
       "      <td>4.0</td>\n",
       "      <td>42.0</td>\n",
       "      <td>46.0</td>\n",
       "      <td>43.60</td>\n",
       "    </tr>\n",
       "    <tr>\n",
       "      <th>2</th>\n",
       "      <td>RobinUthappa</td>\n",
       "      <td>345.0</td>\n",
       "      <td>255.0</td>\n",
       "      <td>27.0</td>\n",
       "      <td>19.0</td>\n",
       "      <td>0.0</td>\n",
       "      <td>0.0</td>\n",
       "      <td>0.0</td>\n",
       "      <td>0.0</td>\n",
       "      <td>0.0</td>\n",
       "      <td>0.0</td>\n",
       "      <td>No</td>\n",
       "      <td>No</td>\n",
       "      <td>0.0</td>\n",
       "      <td>15.0</td>\n",
       "      <td>15.0</td>\n",
       "      <td>23.00</td>\n",
       "    </tr>\n",
       "    <tr>\n",
       "      <th>3</th>\n",
       "      <td>MoeenAli</td>\n",
       "      <td>725.0</td>\n",
       "      <td>528.0</td>\n",
       "      <td>67.0</td>\n",
       "      <td>36.0</td>\n",
       "      <td>501.0</td>\n",
       "      <td>427.0</td>\n",
       "      <td>21.0</td>\n",
       "      <td>5.0</td>\n",
       "      <td>0.0</td>\n",
       "      <td>152.0</td>\n",
       "      <td>Yes</td>\n",
       "      <td>Yes</td>\n",
       "      <td>4.0</td>\n",
       "      <td>31.0</td>\n",
       "      <td>35.0</td>\n",
       "      <td>23.39</td>\n",
       "    </tr>\n",
       "    <tr>\n",
       "      <th>4</th>\n",
       "      <td>ShubmanGill</td>\n",
       "      <td>1851.0</td>\n",
       "      <td>1331.0</td>\n",
       "      <td>186.0</td>\n",
       "      <td>56.0</td>\n",
       "      <td>0.0</td>\n",
       "      <td>0.0</td>\n",
       "      <td>0.0</td>\n",
       "      <td>0.0</td>\n",
       "      <td>0.0</td>\n",
       "      <td>0.0</td>\n",
       "      <td>Yes</td>\n",
       "      <td>No</td>\n",
       "      <td>4.0</td>\n",
       "      <td>46.0</td>\n",
       "      <td>50.0</td>\n",
       "      <td>40.24</td>\n",
       "    </tr>\n",
       "  </tbody>\n",
       "</table>\n",
       "</div>"
      ],
      "text/plain": [
       "             name    runs  Balls_Faced     4s    6s  runs_given  balls_bowled  \\\n",
       "0  RuturajGaikwad  1593.0       1157.0  143.0  67.0         0.0           0.0   \n",
       "1    FafduPlessis  1831.0       1300.0  169.0  72.0         0.0           0.0   \n",
       "2    RobinUthappa   345.0        255.0   27.0  19.0         0.0           0.0   \n",
       "3        MoeenAli   725.0        528.0   67.0  36.0       501.0         427.0   \n",
       "4     ShubmanGill  1851.0       1331.0  186.0  56.0         0.0           0.0   \n",
       "\n",
       "   wickets  wides  maiden  dot_balls_bowled eachSeasonBatter eachSeasonBowler  \\\n",
       "0      0.0    0.0     0.0               0.0              Yes               No   \n",
       "1      0.0    0.0     0.0               0.0              Yes               No   \n",
       "2      0.0    0.0     0.0               0.0               No               No   \n",
       "3     21.0    5.0     0.0             152.0              Yes              Yes   \n",
       "4      0.0    0.0     0.0               0.0              Yes               No   \n",
       "\n",
       "   not_out   out  Matches_Batted  avgBattingRuns  \n",
       "0      3.0  42.0            45.0           37.93  \n",
       "1      4.0  42.0            46.0           43.60  \n",
       "2      0.0  15.0            15.0           23.00  \n",
       "3      4.0  31.0            35.0           23.39  \n",
       "4      4.0  46.0            50.0           40.24  "
      ]
     },
     "execution_count": 33,
     "metadata": {},
     "output_type": "execute_result"
    }
   ],
   "source": [
    "playerStat.head()"
   ]
  },
  {
   "cell_type": "markdown",
   "id": "87e3df0c-0bc0-434f-8250-13c2cea8860f",
   "metadata": {},
   "source": [
    "#### Calculate Strike Rate"
   ]
  },
  {
   "cell_type": "code",
   "execution_count": 34,
   "id": "206b173c-2f96-4cea-8628-a1f1b05e4570",
   "metadata": {},
   "outputs": [],
   "source": [
    "playerStat['strikeRate'] = np.round(100*playerStat['runs']/playerStat['Balls_Faced'],2)\n",
    "#cleaning NaN values\n",
    "#playerStat.loc[playerStat['out'] == 0, 'avgBattingRuns'] = playerStat['runs']"
   ]
  },
  {
   "cell_type": "code",
   "execution_count": 35,
   "id": "c19d1fc4-01fd-4c5a-971a-48348718c8c6",
   "metadata": {},
   "outputs": [
    {
     "data": {
      "text/html": [
       "<div>\n",
       "<style scoped>\n",
       "    .dataframe tbody tr th:only-of-type {\n",
       "        vertical-align: middle;\n",
       "    }\n",
       "\n",
       "    .dataframe tbody tr th {\n",
       "        vertical-align: top;\n",
       "    }\n",
       "\n",
       "    .dataframe thead th {\n",
       "        text-align: right;\n",
       "    }\n",
       "</style>\n",
       "<table border=\"1\" class=\"dataframe\">\n",
       "  <thead>\n",
       "    <tr style=\"text-align: right;\">\n",
       "      <th></th>\n",
       "      <th>name</th>\n",
       "      <th>runs</th>\n",
       "      <th>Balls_Faced</th>\n",
       "      <th>4s</th>\n",
       "      <th>6s</th>\n",
       "      <th>runs_given</th>\n",
       "      <th>balls_bowled</th>\n",
       "      <th>wickets</th>\n",
       "      <th>wides</th>\n",
       "      <th>maiden</th>\n",
       "      <th>dot_balls_bowled</th>\n",
       "      <th>eachSeasonBatter</th>\n",
       "      <th>eachSeasonBowler</th>\n",
       "      <th>not_out</th>\n",
       "      <th>out</th>\n",
       "      <th>Matches_Batted</th>\n",
       "      <th>avgBattingRuns</th>\n",
       "      <th>strikeRate</th>\n",
       "    </tr>\n",
       "  </thead>\n",
       "  <tbody>\n",
       "    <tr>\n",
       "      <th>0</th>\n",
       "      <td>RuturajGaikwad</td>\n",
       "      <td>1593.0</td>\n",
       "      <td>1157.0</td>\n",
       "      <td>143.0</td>\n",
       "      <td>67.0</td>\n",
       "      <td>0.0</td>\n",
       "      <td>0.0</td>\n",
       "      <td>0.0</td>\n",
       "      <td>0.0</td>\n",
       "      <td>0.0</td>\n",
       "      <td>0.0</td>\n",
       "      <td>Yes</td>\n",
       "      <td>No</td>\n",
       "      <td>3.0</td>\n",
       "      <td>42.0</td>\n",
       "      <td>45.0</td>\n",
       "      <td>37.93</td>\n",
       "      <td>137.68</td>\n",
       "    </tr>\n",
       "    <tr>\n",
       "      <th>1</th>\n",
       "      <td>FafduPlessis</td>\n",
       "      <td>1831.0</td>\n",
       "      <td>1300.0</td>\n",
       "      <td>169.0</td>\n",
       "      <td>72.0</td>\n",
       "      <td>0.0</td>\n",
       "      <td>0.0</td>\n",
       "      <td>0.0</td>\n",
       "      <td>0.0</td>\n",
       "      <td>0.0</td>\n",
       "      <td>0.0</td>\n",
       "      <td>Yes</td>\n",
       "      <td>No</td>\n",
       "      <td>4.0</td>\n",
       "      <td>42.0</td>\n",
       "      <td>46.0</td>\n",
       "      <td>43.60</td>\n",
       "      <td>140.85</td>\n",
       "    </tr>\n",
       "    <tr>\n",
       "      <th>2</th>\n",
       "      <td>RobinUthappa</td>\n",
       "      <td>345.0</td>\n",
       "      <td>255.0</td>\n",
       "      <td>27.0</td>\n",
       "      <td>19.0</td>\n",
       "      <td>0.0</td>\n",
       "      <td>0.0</td>\n",
       "      <td>0.0</td>\n",
       "      <td>0.0</td>\n",
       "      <td>0.0</td>\n",
       "      <td>0.0</td>\n",
       "      <td>No</td>\n",
       "      <td>No</td>\n",
       "      <td>0.0</td>\n",
       "      <td>15.0</td>\n",
       "      <td>15.0</td>\n",
       "      <td>23.00</td>\n",
       "      <td>135.29</td>\n",
       "    </tr>\n",
       "    <tr>\n",
       "      <th>3</th>\n",
       "      <td>MoeenAli</td>\n",
       "      <td>725.0</td>\n",
       "      <td>528.0</td>\n",
       "      <td>67.0</td>\n",
       "      <td>36.0</td>\n",
       "      <td>501.0</td>\n",
       "      <td>427.0</td>\n",
       "      <td>21.0</td>\n",
       "      <td>5.0</td>\n",
       "      <td>0.0</td>\n",
       "      <td>152.0</td>\n",
       "      <td>Yes</td>\n",
       "      <td>Yes</td>\n",
       "      <td>4.0</td>\n",
       "      <td>31.0</td>\n",
       "      <td>35.0</td>\n",
       "      <td>23.39</td>\n",
       "      <td>137.31</td>\n",
       "    </tr>\n",
       "    <tr>\n",
       "      <th>4</th>\n",
       "      <td>ShubmanGill</td>\n",
       "      <td>1851.0</td>\n",
       "      <td>1331.0</td>\n",
       "      <td>186.0</td>\n",
       "      <td>56.0</td>\n",
       "      <td>0.0</td>\n",
       "      <td>0.0</td>\n",
       "      <td>0.0</td>\n",
       "      <td>0.0</td>\n",
       "      <td>0.0</td>\n",
       "      <td>0.0</td>\n",
       "      <td>Yes</td>\n",
       "      <td>No</td>\n",
       "      <td>4.0</td>\n",
       "      <td>46.0</td>\n",
       "      <td>50.0</td>\n",
       "      <td>40.24</td>\n",
       "      <td>139.07</td>\n",
       "    </tr>\n",
       "  </tbody>\n",
       "</table>\n",
       "</div>"
      ],
      "text/plain": [
       "             name    runs  Balls_Faced     4s    6s  runs_given  balls_bowled  \\\n",
       "0  RuturajGaikwad  1593.0       1157.0  143.0  67.0         0.0           0.0   \n",
       "1    FafduPlessis  1831.0       1300.0  169.0  72.0         0.0           0.0   \n",
       "2    RobinUthappa   345.0        255.0   27.0  19.0         0.0           0.0   \n",
       "3        MoeenAli   725.0        528.0   67.0  36.0       501.0         427.0   \n",
       "4     ShubmanGill  1851.0       1331.0  186.0  56.0         0.0           0.0   \n",
       "\n",
       "   wickets  wides  maiden  dot_balls_bowled eachSeasonBatter eachSeasonBowler  \\\n",
       "0      0.0    0.0     0.0               0.0              Yes               No   \n",
       "1      0.0    0.0     0.0               0.0              Yes               No   \n",
       "2      0.0    0.0     0.0               0.0               No               No   \n",
       "3     21.0    5.0     0.0             152.0              Yes              Yes   \n",
       "4      0.0    0.0     0.0               0.0              Yes               No   \n",
       "\n",
       "   not_out   out  Matches_Batted  avgBattingRuns  strikeRate  \n",
       "0      3.0  42.0            45.0           37.93      137.68  \n",
       "1      4.0  42.0            46.0           43.60      140.85  \n",
       "2      0.0  15.0            15.0           23.00      135.29  \n",
       "3      4.0  31.0            35.0           23.39      137.31  \n",
       "4      4.0  46.0            50.0           40.24      139.07  "
      ]
     },
     "execution_count": 35,
     "metadata": {},
     "output_type": "execute_result"
    }
   ],
   "source": [
    "playerStat.head()"
   ]
  },
  {
   "cell_type": "markdown",
   "id": "991820fa-9fb4-413e-b274-08fd7bb10fb2",
   "metadata": {},
   "source": [
    "#### `Calculate Boundary %"
   ]
  },
  {
   "cell_type": "code",
   "execution_count": 36,
   "id": "c204f253-9ace-4905-962f-897bd9a3aa5b",
   "metadata": {},
   "outputs": [],
   "source": [
    "playerStat['boundary_percentage'] = round(100*(playerStat['4s']*4 + playerStat['6s']*6)/playerStat['runs'],2)"
   ]
  },
  {
   "cell_type": "code",
   "execution_count": 37,
   "id": "fd74a098-7f43-4426-b635-93ed37eb2940",
   "metadata": {},
   "outputs": [],
   "source": [
    "#playerStat"
   ]
  },
  {
   "cell_type": "markdown",
   "id": "5ca2f798-03ae-400e-b755-7e0c6e638eb1",
   "metadata": {},
   "source": [
    "#### Calculate Bowling Average"
   ]
  },
  {
   "cell_type": "code",
   "execution_count": 38,
   "id": "e84509fe-1b8a-4182-a202-081fd56f89fa",
   "metadata": {},
   "outputs": [],
   "source": [
    "playerStat['bowling_avg'] = round((playerStat['runs_given']/playerStat['wickets']),2)"
   ]
  },
  {
   "cell_type": "markdown",
   "id": "b728cc2e-e9a2-40a8-9161-c576765ecdca",
   "metadata": {},
   "source": [
    "#### Calculate Economy"
   ]
  },
  {
   "cell_type": "code",
   "execution_count": 39,
   "id": "ba6dede6-ef19-4099-bf78-bbf50a99f3e1",
   "metadata": {},
   "outputs": [],
   "source": [
    "playerStat['economy'] = round(6*playerStat['runs_given']/playerStat['balls_bowled'],2)"
   ]
  },
  {
   "cell_type": "markdown",
   "id": "4112f68d-c627-4e70-9183-62588873ae32",
   "metadata": {},
   "source": [
    "#### Calculate Dot Ball %"
   ]
  },
  {
   "cell_type": "code",
   "execution_count": 40,
   "id": "ccda5003-9614-4126-820a-80a36a26f1c5",
   "metadata": {},
   "outputs": [],
   "source": [
    "playerStat['dot_ball_percentage'] = round(100*playerStat['dot_balls_bowled']/playerStat['balls_bowled'],2)"
   ]
  },
  {
   "cell_type": "markdown",
   "id": "c0237648-e201-433a-be12-6daea10a778f",
   "metadata": {},
   "source": [
    "### Top 10 Batsman"
   ]
  },
  {
   "cell_type": "markdown",
   "id": "d0ced8dd-0fd8-440f-b268-4fc42521e34e",
   "metadata": {},
   "source": [
    "#### Based on Total Runs in Past 3 Years"
   ]
  },
  {
   "cell_type": "code",
   "execution_count": 41,
   "id": "71d5c0c0-2241-4245-96ba-b574b1b4a032",
   "metadata": {},
   "outputs": [
    {
     "name": "stdout",
     "output_type": "stream",
     "text": [
      "               name    runs\n",
      "1       ShubmanGill  1851.0\n",
      "2      FafduPlessis  1831.0\n",
      "3    RuturajGaikwad  1593.0\n",
      "4           KLRahul  1516.0\n",
      "5        JosButtler  1509.0\n",
      "6     ShikharDhawan  1392.0\n",
      "7        ViratKohli  1385.0\n",
      "8       SanjuSamson  1304.0\n",
      "9   SuryakumarYadav  1225.0\n",
      "10     GlennMaxwell  1214.0\n"
     ]
    }
   ],
   "source": [
    "#top 10 batsman\n",
    "top_10_batsmen_by_runs = playerStat.nlargest(10, 'runs').reset_index(drop=True)\n",
    "# Set the index starting from 1\n",
    "top_10_batsmen_by_runs.index = top_10_batsmen_by_runs.index + 1\n",
    "top_10_batsmen_by_runs = top_10_batsmen_by_runs[['name','runs']]\n",
    "print(top_10_batsmen_by_runs)"
   ]
  },
  {
   "cell_type": "markdown",
   "id": "96178313-8f03-4d33-9445-61a6ae4e0be5",
   "metadata": {},
   "source": [
    "#### Based on Average"
   ]
  },
  {
   "cell_type": "code",
   "execution_count": 42,
   "id": "1d9accad-c03d-495a-a9d1-d32499dd9d69",
   "metadata": {},
   "outputs": [
    {
     "name": "stdout",
     "output_type": "stream",
     "text": [
      "               name  avgBattingRuns\n",
      "1           KLRahul           50.53\n",
      "2      FafduPlessis           43.60\n",
      "3       DavidMiller           43.20\n",
      "4        JosButtler           41.92\n",
      "5    ShimronHetmyer           40.67\n",
      "6       ShubmanGill           40.24\n",
      "7     ShikharDhawan           39.77\n",
      "8    RuturajGaikwad           37.93\n",
      "9       DavidWarner           37.90\n",
      "10  SuryakumarYadav           35.00\n"
     ]
    }
   ],
   "source": [
    "#Top 10 Batter Based on Past 3 years Average\n",
    "top_10_batsmen_by_avg = playerStat[playerStat['eachSeasonBatter'] == 'Yes'].nlargest(10, 'avgBattingRuns').reset_index(drop=True)\n",
    "# Set the index starting from 1\n",
    "top_10_batsmen_by_avg.index = top_10_batsmen_by_avg.index + 1\n",
    "top_10_batsmen_by_avg = top_10_batsmen_by_avg[['name','avgBattingRuns']]\n",
    "print(top_10_batsmen_by_avg)"
   ]
  },
  {
   "cell_type": "markdown",
   "id": "04b88cbf-a7c2-44cc-84ce-f8258f35f130",
   "metadata": {},
   "source": [
    "#### Based on Strike Rate"
   ]
  },
  {
   "cell_type": "code",
   "execution_count": 43,
   "id": "4f82128b-c72c-4c53-a221-9887037bd67c",
   "metadata": {},
   "outputs": [
    {
     "name": "stdout",
     "output_type": "stream",
     "text": [
      "               name  strikeRate\n",
      "1      GlennMaxwell      161.44\n",
      "2   SuryakumarYadav      160.55\n",
      "3      AndreRussell      159.19\n",
      "4    ShimronHetmyer      157.27\n",
      "5    NicholasPooran      157.11\n",
      "6       PrithviShaw      153.20\n",
      "7     DineshKarthik      152.64\n",
      "8   YashasviJaiswal      152.15\n",
      "9        JosButtler      146.93\n",
      "10       ShivamDube      145.95\n"
     ]
    }
   ],
   "source": [
    "#Top 10 Batter Based on Past 3 years Strike Rate\n",
    "top_10_batsmen_by_sr = playerStat[playerStat['eachSeasonBatter'] == 'Yes'].nlargest(10, 'strikeRate').reset_index(drop=True)\n",
    "# Set the index starting from 1\n",
    "top_10_batsmen_by_sr.index = top_10_batsmen_by_sr.index + 1\n",
    "top_10_batsmen_by_sr = top_10_batsmen_by_sr[['name','strikeRate']]\n",
    "print(top_10_batsmen_by_sr)"
   ]
  },
  {
   "cell_type": "markdown",
   "id": "4399b80e-96d4-4930-8c96-2b4aff838c5c",
   "metadata": {},
   "source": [
    "#### Based on Boundary %"
   ]
  },
  {
   "cell_type": "code",
   "execution_count": 44,
   "id": "a43addc1-1355-4c47-9817-2f8e2bb68d9f",
   "metadata": {},
   "outputs": [
    {
     "name": "stdout",
     "output_type": "stream",
     "text": [
      "               name  boundary_percentage\n",
      "1      AndreRussell                75.70\n",
      "2   YashasviJaiswal                74.56\n",
      "3       PrithviShaw                70.67\n",
      "4        JosButtler                68.92\n",
      "5      GlennMaxwell                68.70\n",
      "6   SuryakumarYadav                68.24\n",
      "7    NicholasPooran                67.49\n",
      "8          MoeenAli                66.76\n",
      "9       RohitSharma                66.06\n",
      "10    MarcusStoinis                66.05\n"
     ]
    }
   ],
   "source": [
    "#Top 10 Batter Based on Past 3 years Boundary Percentage\n",
    "top_10_batsmen_by_boundary_percent = playerStat[playerStat['eachSeasonBatter'] == 'Yes'].nlargest(10, 'boundary_percentage').reset_index(drop=True)\n",
    "# Set the index starting from 1\n",
    "top_10_batsmen_by_boundary_percent.index = top_10_batsmen_by_boundary_percent.index + 1\n",
    "top_10_batsmen_by_boundary_percent = top_10_batsmen_by_boundary_percent[['name','boundary_percentage']]\n",
    "print(top_10_batsmen_by_boundary_percent)"
   ]
  },
  {
   "cell_type": "markdown",
   "id": "76e0d9d0-d8fe-4ace-a3e3-5a0071380b6b",
   "metadata": {},
   "source": [
    "### Top 10 Bowlers"
   ]
  },
  {
   "cell_type": "markdown",
   "id": "f0a90259-239e-441e-8759-d30578ec1675",
   "metadata": {},
   "source": [
    "#### Based on Total Wickets in Past 3 Years"
   ]
  },
  {
   "cell_type": "code",
   "execution_count": 45,
   "id": "0b34f1e0-015b-4488-aee2-bf11d5286564",
   "metadata": {},
   "outputs": [],
   "source": [
    "bowlers_and_wickets = bowling_summary.groupby('bowlerName')['wickets'].sum().reset_index()"
   ]
  },
  {
   "cell_type": "code",
   "execution_count": 46,
   "id": "269cf9a5-1f1b-426f-9f98-028fc709fadd",
   "metadata": {},
   "outputs": [],
   "source": [
    "#bowlers_and_wickets.head()"
   ]
  },
  {
   "cell_type": "code",
   "execution_count": 47,
   "id": "13a431ff-a5b8-4b1b-ab14-473d885acdba",
   "metadata": {},
   "outputs": [
    {
     "name": "stdout",
     "output_type": "stream",
     "text": [
      "           bowlerName  wickets\n",
      "1       MohammedShami       67\n",
      "2     YuzvendraChahal       66\n",
      "3        HarshalPatel       65\n",
      "4          RashidKhan       63\n",
      "5           AveshKhan       47\n",
      "6       ArshdeepSingh       45\n",
      "7        KagisoRabada       45\n",
      "8   VarunChakravarthy       44\n",
      "9       ShardulThakur       43\n",
      "10         TrentBoult       42\n"
     ]
    }
   ],
   "source": [
    "#top 10 bowlers\n",
    "top_10_bowler = bowlers_and_wickets.nlargest(10, 'wickets').reset_index(drop=True)\n",
    "# Set the index starting from 1\n",
    "top_10_bowler.index = top_10_bowler.index + 1\n",
    "print(top_10_bowler)"
   ]
  },
  {
   "cell_type": "markdown",
   "id": "8b4112b4-1562-4d9e-8f37-3c77ee98a73d",
   "metadata": {},
   "source": [
    "#### Based on Average"
   ]
  },
  {
   "cell_type": "code",
   "execution_count": 48,
   "id": "ae410533-0d1f-42e6-a276-fb306380f5dd",
   "metadata": {},
   "outputs": [
    {
     "name": "stdout",
     "output_type": "stream",
     "text": [
      "               name  bowling_avg\n",
      "1      AndreRussell        18.23\n",
      "2   YuzvendraChahal        20.20\n",
      "3      HarshalPatel        20.35\n",
      "4        RashidKhan        20.90\n",
      "5     MohammedShami        20.97\n",
      "6         AveshKhan        23.72\n",
      "7      KagisoRabada        23.76\n",
      "8          MoeenAli        23.86\n",
      "9      AnrichNortje        24.77\n",
      "10       UmranMalik        26.10\n"
     ]
    }
   ],
   "source": [
    "#Top 10 Bowlers based on Average\n",
    "top_10_bowler_by_average = playerStat[playerStat['eachSeasonBowler'] == 'Yes'].nsmallest(10, 'bowling_avg').reset_index(drop=True)\n",
    "# Set the index starting from 1\n",
    "top_10_bowler_by_average.index = top_10_bowler_by_average.index + 1\n",
    "top_10_bowler_by_average = top_10_bowler_by_average[['name','bowling_avg']]\n",
    "print(top_10_bowler_by_average)"
   ]
  },
  {
   "cell_type": "markdown",
   "id": "ecd4cdae-0a00-4e0e-bb39-ea9a3aa4a0dd",
   "metadata": {},
   "source": [
    "#### Based on Economy"
   ]
  },
  {
   "cell_type": "code",
   "execution_count": 49,
   "id": "55542990-6613-4885-a4e3-35e633422e34",
   "metadata": {},
   "outputs": [
    {
     "name": "stdout",
     "output_type": "stream",
     "text": [
      "                  name  economy\n",
      "1          SunilNarine     6.60\n",
      "2             MoeenAli     7.04\n",
      "3            AxarPatel     7.11\n",
      "4           RashidKhan     7.20\n",
      "5         KrunalPandya     7.45\n",
      "6       RavindraJadeja     7.46\n",
      "7   RavichandranAshwin     7.50\n",
      "8    VarunChakravarthy     7.58\n",
      "9         HarpreetBrar     7.60\n",
      "10         RahulChahar     7.66\n"
     ]
    }
   ],
   "source": [
    "#Top 10 Bowlers based on Economy\n",
    "top_10_bowler_by_economy = playerStat[playerStat['eachSeasonBowler'] == 'Yes'].nsmallest(10, 'economy').reset_index(drop=True)\n",
    "# Set the index starting from 1\n",
    "top_10_bowler_by_economy.index = top_10_bowler_by_economy.index + 1\n",
    "top_10_bowler_by_economy = top_10_bowler_by_economy[['name','economy']]\n",
    "print(top_10_bowler_by_economy)"
   ]
  },
  {
   "cell_type": "markdown",
   "id": "3c9b562f-08d7-47e4-b39b-7b20416cc7a3",
   "metadata": {},
   "source": [
    "#### Based on Dot Ball %"
   ]
  },
  {
   "cell_type": "code",
   "execution_count": 50,
   "id": "ee17650f-224e-4840-a901-4fed2f97cfb5",
   "metadata": {},
   "outputs": [
    {
     "name": "stdout",
     "output_type": "stream",
     "text": [
      "                name  dot_ball_percentage\n",
      "1      MohammedSiraj                47.71\n",
      "2      MohammedShami                47.62\n",
      "3         TrentBoult                46.47\n",
      "4         UmranMalik                44.15\n",
      "5       KhaleelAhmed                43.61\n",
      "6       KagisoRabada                43.41\n",
      "7   BhuvneshwarKumar                42.48\n",
      "8          AveshKhan                41.70\n",
      "9       AnrichNortje                41.19\n",
      "10     RileyMeredith                40.52\n"
     ]
    }
   ],
   "source": [
    "\n",
    "#Top 10 Bowlers based on dot_ball_percentage\n",
    "top_10_bowler_by_dot_ball_percentage = playerStat[playerStat['eachSeasonBowler'] == 'Yes'].nlargest(10, 'dot_ball_percentage').reset_index(drop=True)\n",
    "# Set the index starting from 1\n",
    "top_10_bowler_by_dot_ball_percentage.index = top_10_bowler_by_dot_ball_percentage.index + 1\n",
    "top_10_bowler_by_dot_ball_percentage = top_10_bowler_by_dot_ball_percentage[['name','dot_ball_percentage']]\n",
    "print(top_10_bowler_by_dot_ball_percentage)"
   ]
  }
 ],
 "metadata": {
  "kernelspec": {
   "display_name": "Python 3 (ipykernel)",
   "language": "python",
   "name": "python3"
  },
  "language_info": {
   "codemirror_mode": {
    "name": "ipython",
    "version": 3
   },
   "file_extension": ".py",
   "mimetype": "text/x-python",
   "name": "python",
   "nbconvert_exporter": "python",
   "pygments_lexer": "ipython3",
   "version": "3.11.5"
  }
 },
 "nbformat": 4,
 "nbformat_minor": 5
}
